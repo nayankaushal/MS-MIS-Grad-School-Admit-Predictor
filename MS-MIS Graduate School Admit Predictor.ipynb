{
 "cells": [
  {
   "cell_type": "markdown",
   "metadata": {},
   "source": [
    "<h1>MS-MIS Grad School Admit Predictor:</h1>\n",
    "\n",
    "Master of Science in Management Information Systems is a growing and competitive field in the tech industry. Every year, thousands of Indian students apply to various colleges for this competitive course. Utilizing the MS-MIS data which I got from Kaggle, I applied Data Cleaning, Exploratory Data Analysis, and Logistic Regression algorithm to predict the status of the students who were \"Interested\" in applying or had \"Applied\" to a certain university."
   ]
  },
  {
   "cell_type": "markdown",
   "metadata": {},
   "source": [
    "I start by importing relevant libraries to my notebook:"
   ]
  },
  {
   "cell_type": "code",
   "execution_count": 1,
   "metadata": {},
   "outputs": [],
   "source": [
    "import pandas as pd\n",
    "import numpy as np\n",
    "import matplotlib.pyplot as plt\n",
    "import seaborn as sns\n",
    "from sklearn.linear_model import LogisticRegression\n",
    "from sklearn.linear_model import LinearRegression\n",
    "from sklearn.model_selection import train_test_split, GridSearchCV\n",
    "from sklearn.metrics import accuracy_score, confusion_matrix, classification_report\n",
    "from sklearn.preprocessing import StandardScaler, LabelEncoder"
   ]
  },
  {
   "cell_type": "markdown",
   "metadata": {},
   "source": [
    "Now, I will import the data obtained from kaggle into a dataframe:"
   ]
  },
  {
   "cell_type": "code",
   "execution_count": 2,
   "metadata": {},
   "outputs": [
    {
     "name": "stderr",
     "output_type": "stream",
     "text": [
      "b'Skipping line 1415: expected 11 fields, saw 12\\nSkipping line 1416: expected 11 fields, saw 12\\nSkipping line 1417: expected 11 fields, saw 12\\nSkipping line 1418: expected 11 fields, saw 12\\nSkipping line 1419: expected 11 fields, saw 12\\nSkipping line 1420: expected 11 fields, saw 12\\nSkipping line 1421: expected 11 fields, saw 12\\nSkipping line 1422: expected 11 fields, saw 12\\nSkipping line 1423: expected 11 fields, saw 12\\nSkipping line 1424: expected 11 fields, saw 12\\nSkipping line 1425: expected 11 fields, saw 12\\nSkipping line 1426: expected 11 fields, saw 12\\nSkipping line 1427: expected 11 fields, saw 12\\nSkipping line 1428: expected 11 fields, saw 12\\nSkipping line 1429: expected 11 fields, saw 12\\nSkipping line 1430: expected 11 fields, saw 12\\nSkipping line 1431: expected 11 fields, saw 12\\nSkipping line 1432: expected 11 fields, saw 12\\nSkipping line 1433: expected 11 fields, saw 12\\nSkipping line 1434: expected 11 fields, saw 12\\nSkipping line 1435: expected 11 fields, saw 12\\nSkipping line 1436: expected 11 fields, saw 12\\nSkipping line 1437: expected 11 fields, saw 12\\nSkipping line 1438: expected 11 fields, saw 12\\nSkipping line 1439: expected 11 fields, saw 12\\nSkipping line 1440: expected 11 fields, saw 12\\nSkipping line 1441: expected 11 fields, saw 12\\nSkipping line 1442: expected 11 fields, saw 12\\nSkipping line 1443: expected 11 fields, saw 12\\nSkipping line 1444: expected 11 fields, saw 12\\nSkipping line 1445: expected 11 fields, saw 12\\nSkipping line 1446: expected 11 fields, saw 12\\nSkipping line 1447: expected 11 fields, saw 12\\nSkipping line 1448: expected 11 fields, saw 12\\nSkipping line 1449: expected 11 fields, saw 12\\nSkipping line 1450: expected 11 fields, saw 12\\nSkipping line 1451: expected 11 fields, saw 12\\nSkipping line 1452: expected 11 fields, saw 12\\nSkipping line 1453: expected 11 fields, saw 12\\nSkipping line 1454: expected 11 fields, saw 12\\nSkipping line 1455: expected 11 fields, saw 12\\nSkipping line 1456: expected 11 fields, saw 12\\nSkipping line 1457: expected 11 fields, saw 12\\nSkipping line 1458: expected 11 fields, saw 12\\nSkipping line 1459: expected 11 fields, saw 12\\nSkipping line 1460: expected 11 fields, saw 12\\nSkipping line 1461: expected 11 fields, saw 12\\nSkipping line 1462: expected 11 fields, saw 12\\nSkipping line 1463: expected 11 fields, saw 12\\nSkipping line 1464: expected 11 fields, saw 12\\nSkipping line 1465: expected 11 fields, saw 12\\nSkipping line 1466: expected 11 fields, saw 12\\nSkipping line 1467: expected 11 fields, saw 12\\nSkipping line 1468: expected 11 fields, saw 12\\nSkipping line 1469: expected 11 fields, saw 12\\nSkipping line 1470: expected 11 fields, saw 12\\nSkipping line 1471: expected 11 fields, saw 12\\nSkipping line 1472: expected 11 fields, saw 12\\nSkipping line 1473: expected 11 fields, saw 12\\nSkipping line 1474: expected 11 fields, saw 12\\nSkipping line 1475: expected 11 fields, saw 12\\nSkipping line 1476: expected 11 fields, saw 12\\nSkipping line 1477: expected 11 fields, saw 12\\nSkipping line 1478: expected 11 fields, saw 12\\nSkipping line 1479: expected 11 fields, saw 12\\nSkipping line 1480: expected 11 fields, saw 12\\nSkipping line 1481: expected 11 fields, saw 12\\nSkipping line 1482: expected 11 fields, saw 12\\nSkipping line 1483: expected 11 fields, saw 12\\nSkipping line 1484: expected 11 fields, saw 12\\nSkipping line 1485: expected 11 fields, saw 12\\nSkipping line 1486: expected 11 fields, saw 12\\nSkipping line 1487: expected 11 fields, saw 12\\nSkipping line 1488: expected 11 fields, saw 12\\nSkipping line 1489: expected 11 fields, saw 12\\nSkipping line 1490: expected 11 fields, saw 12\\nSkipping line 1491: expected 11 fields, saw 12\\nSkipping line 1492: expected 11 fields, saw 12\\nSkipping line 1493: expected 11 fields, saw 12\\nSkipping line 1494: expected 11 fields, saw 12\\nSkipping line 1495: expected 11 fields, saw 12\\nSkipping line 1496: expected 11 fields, saw 12\\nSkipping line 1497: expected 11 fields, saw 12\\nSkipping line 1498: expected 11 fields, saw 12\\nSkipping line 1499: expected 11 fields, saw 12\\nSkipping line 1500: expected 11 fields, saw 12\\nSkipping line 1501: expected 11 fields, saw 12\\nSkipping line 1502: expected 11 fields, saw 12\\nSkipping line 1503: expected 11 fields, saw 12\\nSkipping line 1504: expected 11 fields, saw 12\\nSkipping line 1505: expected 11 fields, saw 12\\nSkipping line 1506: expected 11 fields, saw 12\\nSkipping line 1507: expected 11 fields, saw 12\\nSkipping line 1508: expected 11 fields, saw 12\\nSkipping line 1509: expected 11 fields, saw 12\\nSkipping line 1510: expected 11 fields, saw 12\\nSkipping line 1511: expected 11 fields, saw 12\\nSkipping line 1512: expected 11 fields, saw 12\\nSkipping line 1513: expected 11 fields, saw 12\\nSkipping line 1514: expected 11 fields, saw 12\\nSkipping line 1515: expected 11 fields, saw 12\\nSkipping line 1516: expected 11 fields, saw 12\\nSkipping line 1517: expected 11 fields, saw 12\\nSkipping line 1518: expected 11 fields, saw 12\\nSkipping line 1519: expected 11 fields, saw 12\\nSkipping line 1520: expected 11 fields, saw 12\\nSkipping line 1521: expected 11 fields, saw 12\\nSkipping line 1522: expected 11 fields, saw 12\\nSkipping line 1523: expected 11 fields, saw 12\\nSkipping line 1524: expected 11 fields, saw 12\\nSkipping line 1525: expected 11 fields, saw 12\\nSkipping line 1526: expected 11 fields, saw 12\\nSkipping line 1527: expected 11 fields, saw 12\\nSkipping line 1528: expected 11 fields, saw 12\\nSkipping line 1529: expected 11 fields, saw 12\\nSkipping line 1530: expected 11 fields, saw 12\\nSkipping line 1531: expected 11 fields, saw 12\\nSkipping line 1532: expected 11 fields, saw 12\\nSkipping line 1533: expected 11 fields, saw 12\\nSkipping line 1534: expected 11 fields, saw 12\\nSkipping line 1535: expected 11 fields, saw 12\\nSkipping line 1536: expected 11 fields, saw 12\\nSkipping line 1537: expected 11 fields, saw 12\\nSkipping line 1538: expected 11 fields, saw 12\\nSkipping line 1539: expected 11 fields, saw 12\\nSkipping line 1540: expected 11 fields, saw 12\\nSkipping line 1541: expected 11 fields, saw 12\\nSkipping line 1542: expected 11 fields, saw 12\\nSkipping line 1543: expected 11 fields, saw 12\\nSkipping line 1544: expected 11 fields, saw 12\\nSkipping line 1545: expected 11 fields, saw 12\\nSkipping line 1546: expected 11 fields, saw 12\\nSkipping line 1547: expected 11 fields, saw 12\\nSkipping line 1548: expected 11 fields, saw 12\\nSkipping line 1549: expected 11 fields, saw 12\\nSkipping line 1550: expected 11 fields, saw 12\\nSkipping line 1551: expected 11 fields, saw 12\\nSkipping line 1552: expected 11 fields, saw 12\\nSkipping line 1553: expected 11 fields, saw 12\\nSkipping line 1554: expected 11 fields, saw 12\\nSkipping line 1555: expected 11 fields, saw 12\\nSkipping line 1556: expected 11 fields, saw 12\\nSkipping line 1557: expected 11 fields, saw 12\\nSkipping line 1558: expected 11 fields, saw 12\\nSkipping line 1559: expected 11 fields, saw 12\\nSkipping line 1560: expected 11 fields, saw 12\\nSkipping line 1561: expected 11 fields, saw 12\\nSkipping line 1562: expected 11 fields, saw 12\\nSkipping line 1563: expected 11 fields, saw 12\\nSkipping line 1564: expected 11 fields, saw 12\\nSkipping line 1565: expected 11 fields, saw 12\\nSkipping line 1566: expected 11 fields, saw 12\\nSkipping line 1567: expected 11 fields, saw 12\\nSkipping line 1568: expected 11 fields, saw 12\\nSkipping line 1569: expected 11 fields, saw 12\\nSkipping line 1570: expected 11 fields, saw 12\\nSkipping line 1571: expected 11 fields, saw 12\\nSkipping line 1572: expected 11 fields, saw 12\\nSkipping line 1573: expected 11 fields, saw 12\\nSkipping line 1574: expected 11 fields, saw 12\\nSkipping line 1575: expected 11 fields, saw 12\\nSkipping line 1576: expected 11 fields, saw 12\\nSkipping line 1577: expected 11 fields, saw 12\\nSkipping line 1578: expected 11 fields, saw 12\\nSkipping line 1579: expected 11 fields, saw 12\\nSkipping line 1580: expected 11 fields, saw 12\\nSkipping line 1581: expected 11 fields, saw 12\\nSkipping line 1582: expected 11 fields, saw 12\\nSkipping line 1583: expected 11 fields, saw 12\\nSkipping line 1584: expected 11 fields, saw 12\\nSkipping line 1585: expected 11 fields, saw 12\\nSkipping line 1586: expected 11 fields, saw 12\\nSkipping line 1668: expected 11 fields, saw 12\\nSkipping line 1669: expected 11 fields, saw 12\\nSkipping line 1670: expected 11 fields, saw 12\\nSkipping line 1671: expected 11 fields, saw 12\\nSkipping line 1672: expected 11 fields, saw 12\\nSkipping line 1673: expected 11 fields, saw 12\\nSkipping line 1674: expected 11 fields, saw 12\\nSkipping line 1675: expected 11 fields, saw 12\\nSkipping line 1676: expected 11 fields, saw 12\\nSkipping line 1677: expected 11 fields, saw 12\\nSkipping line 1678: expected 11 fields, saw 12\\nSkipping line 1679: expected 11 fields, saw 12\\nSkipping line 1680: expected 11 fields, saw 12\\nSkipping line 1681: expected 11 fields, saw 12\\nSkipping line 1682: expected 11 fields, saw 12\\nSkipping line 1683: expected 11 fields, saw 12\\nSkipping line 1684: expected 11 fields, saw 12\\nSkipping line 1685: expected 11 fields, saw 12\\nSkipping line 1686: expected 11 fields, saw 12\\nSkipping line 1687: expected 11 fields, saw 12\\nSkipping line 1688: expected 11 fields, saw 12\\nSkipping line 1689: expected 11 fields, saw 12\\nSkipping line 1690: expected 11 fields, saw 12\\nSkipping line 1691: expected 11 fields, saw 12\\nSkipping line 1692: expected 11 fields, saw 12\\nSkipping line 1693: expected 11 fields, saw 12\\nSkipping line 1694: expected 11 fields, saw 12\\nSkipping line 1695: expected 11 fields, saw 12\\nSkipping line 1696: expected 11 fields, saw 12\\nSkipping line 1697: expected 11 fields, saw 12\\nSkipping line 1698: expected 11 fields, saw 12\\nSkipping line 1699: expected 11 fields, saw 12\\nSkipping line 1700: expected 11 fields, saw 12\\nSkipping line 1701: expected 11 fields, saw 12\\nSkipping line 1702: expected 11 fields, saw 12\\nSkipping line 1703: expected 11 fields, saw 12\\nSkipping line 1704: expected 11 fields, saw 12\\nSkipping line 1705: expected 11 fields, saw 12\\nSkipping line 1706: expected 11 fields, saw 12\\nSkipping line 1707: expected 11 fields, saw 12\\nSkipping line 1708: expected 11 fields, saw 12\\nSkipping line 1709: expected 11 fields, saw 12\\nSkipping line 1710: expected 11 fields, saw 12\\nSkipping line 1711: expected 11 fields, saw 12\\nSkipping line 1712: expected 11 fields, saw 12\\nSkipping line 1713: expected 11 fields, saw 12\\nSkipping line 1714: expected 11 fields, saw 12\\nSkipping line 1715: expected 11 fields, saw 12\\nSkipping line 1716: expected 11 fields, saw 12\\nSkipping line 1717: expected 11 fields, saw 12\\nSkipping line 1718: expected 11 fields, saw 12\\nSkipping line 1719: expected 11 fields, saw 12\\nSkipping line 1720: expected 11 fields, saw 12\\nSkipping line 1721: expected 11 fields, saw 12\\nSkipping line 1722: expected 11 fields, saw 12\\nSkipping line 1723: expected 11 fields, saw 12\\nSkipping line 1724: expected 11 fields, saw 12\\nSkipping line 1725: expected 11 fields, saw 12\\nSkipping line 1726: expected 11 fields, saw 12\\nSkipping line 1727: expected 11 fields, saw 12\\nSkipping line 1728: expected 11 fields, saw 12\\nSkipping line 1729: expected 11 fields, saw 12\\nSkipping line 1730: expected 11 fields, saw 12\\nSkipping line 1731: expected 11 fields, saw 12\\nSkipping line 1732: expected 11 fields, saw 12\\nSkipping line 1733: expected 11 fields, saw 12\\nSkipping line 1734: expected 11 fields, saw 12\\nSkipping line 1735: expected 11 fields, saw 12\\nSkipping line 1736: expected 11 fields, saw 12\\nSkipping line 1737: expected 11 fields, saw 12\\nSkipping line 1738: expected 11 fields, saw 12\\nSkipping line 1739: expected 11 fields, saw 12\\nSkipping line 1740: expected 11 fields, saw 12\\nSkipping line 1741: expected 11 fields, saw 12\\nSkipping line 1742: expected 11 fields, saw 12\\nSkipping line 1743: expected 11 fields, saw 12\\nSkipping line 1744: expected 11 fields, saw 12\\nSkipping line 1745: expected 11 fields, saw 12\\nSkipping line 1746: expected 11 fields, saw 12\\nSkipping line 1747: expected 11 fields, saw 12\\nSkipping line 1748: expected 11 fields, saw 12\\nSkipping line 1749: expected 11 fields, saw 12\\nSkipping line 1750: expected 11 fields, saw 12\\nSkipping line 1751: expected 11 fields, saw 12\\nSkipping line 1752: expected 11 fields, saw 12\\nSkipping line 1753: expected 11 fields, saw 12\\nSkipping line 1754: expected 11 fields, saw 12\\nSkipping line 1755: expected 11 fields, saw 12\\nSkipping line 1756: expected 11 fields, saw 12\\nSkipping line 1757: expected 11 fields, saw 12\\nSkipping line 1758: expected 11 fields, saw 12\\nSkipping line 1759: expected 11 fields, saw 12\\nSkipping line 1760: expected 11 fields, saw 12\\nSkipping line 1761: expected 11 fields, saw 12\\nSkipping line 1762: expected 11 fields, saw 12\\nSkipping line 1763: expected 11 fields, saw 12\\nSkipping line 1764: expected 11 fields, saw 12\\nSkipping line 1765: expected 11 fields, saw 12\\nSkipping line 1766: expected 11 fields, saw 12\\nSkipping line 1767: expected 11 fields, saw 12\\nSkipping line 1768: expected 11 fields, saw 12\\nSkipping line 1769: expected 11 fields, saw 12\\nSkipping line 1770: expected 11 fields, saw 12\\nSkipping line 1771: expected 11 fields, saw 12\\nSkipping line 1772: expected 11 fields, saw 12\\nSkipping line 1773: expected 11 fields, saw 12\\nSkipping line 1774: expected 11 fields, saw 12\\nSkipping line 1775: expected 11 fields, saw 12\\nSkipping line 1776: expected 11 fields, saw 12\\nSkipping line 1777: expected 11 fields, saw 12\\nSkipping line 1778: expected 11 fields, saw 12\\nSkipping line 1779: expected 11 fields, saw 12\\nSkipping line 1780: expected 11 fields, saw 12\\nSkipping line 1781: expected 11 fields, saw 12\\nSkipping line 1782: expected 11 fields, saw 12\\nSkipping line 1783: expected 11 fields, saw 12\\nSkipping line 1784: expected 11 fields, saw 12\\nSkipping line 1785: expected 11 fields, saw 12\\nSkipping line 1786: expected 11 fields, saw 12\\nSkipping line 1787: expected 11 fields, saw 12\\nSkipping line 1788: expected 11 fields, saw 12\\nSkipping line 1789: expected 11 fields, saw 12\\nSkipping line 1790: expected 11 fields, saw 12\\nSkipping line 1791: expected 11 fields, saw 12\\nSkipping line 1792: expected 11 fields, saw 12\\nSkipping line 1793: expected 11 fields, saw 12\\nSkipping line 1794: expected 11 fields, saw 12\\nSkipping line 1795: expected 11 fields, saw 12\\nSkipping line 1796: expected 11 fields, saw 12\\nSkipping line 1797: expected 11 fields, saw 12\\nSkipping line 1798: expected 11 fields, saw 12\\nSkipping line 1799: expected 11 fields, saw 12\\nSkipping line 1800: expected 11 fields, saw 12\\nSkipping line 1801: expected 11 fields, saw 12\\nSkipping line 1802: expected 11 fields, saw 12\\nSkipping line 1803: expected 11 fields, saw 12\\nSkipping line 1804: expected 11 fields, saw 12\\nSkipping line 1805: expected 11 fields, saw 12\\nSkipping line 1806: expected 11 fields, saw 12\\nSkipping line 1807: expected 11 fields, saw 12\\nSkipping line 1808: expected 11 fields, saw 12\\nSkipping line 1809: expected 11 fields, saw 12\\nSkipping line 1810: expected 11 fields, saw 12\\nSkipping line 1811: expected 11 fields, saw 12\\nSkipping line 1812: expected 11 fields, saw 12\\nSkipping line 1813: expected 11 fields, saw 12\\nSkipping line 1814: expected 11 fields, saw 12\\nSkipping line 1815: expected 11 fields, saw 12\\nSkipping line 1816: expected 11 fields, saw 12\\nSkipping line 1817: expected 11 fields, saw 12\\nSkipping line 1818: expected 11 fields, saw 12\\nSkipping line 1819: expected 11 fields, saw 12\\nSkipping line 1820: expected 11 fields, saw 12\\nSkipping line 1821: expected 11 fields, saw 12\\nSkipping line 1822: expected 11 fields, saw 12\\nSkipping line 1823: expected 11 fields, saw 12\\nSkipping line 1824: expected 11 fields, saw 12\\nSkipping line 1825: expected 11 fields, saw 12\\nSkipping line 1826: expected 11 fields, saw 12\\nSkipping line 1827: expected 11 fields, saw 12\\nSkipping line 1828: expected 11 fields, saw 12\\nSkipping line 1829: expected 11 fields, saw 12\\nSkipping line 1830: expected 11 fields, saw 12\\nSkipping line 1831: expected 11 fields, saw 12\\nSkipping line 1832: expected 11 fields, saw 12\\nSkipping line 1833: expected 11 fields, saw 12\\nSkipping line 1834: expected 11 fields, saw 12\\nSkipping line 1835: expected 11 fields, saw 12\\nSkipping line 1836: expected 11 fields, saw 12\\nSkipping line 1837: expected 11 fields, saw 12\\nSkipping line 1838: expected 11 fields, saw 12\\nSkipping line 1839: expected 11 fields, saw 12\\nSkipping line 1840: expected 11 fields, saw 12\\nSkipping line 1841: expected 11 fields, saw 12\\nSkipping line 1842: expected 11 fields, saw 12\\nSkipping line 1843: expected 11 fields, saw 12\\nSkipping line 1844: expected 11 fields, saw 12\\nSkipping line 1845: expected 11 fields, saw 12\\nSkipping line 1846: expected 11 fields, saw 12\\nSkipping line 1847: expected 11 fields, saw 12\\nSkipping line 1848: expected 11 fields, saw 12\\n'\n"
     ]
    }
   ],
   "source": [
    "data = pd.read_csv(r\"C:\\Users\\nakausha\\Downloads\\datasets_38140_58054_Yocket-dataset.csv\", na_values=['NA ', 'N.A. '], error_bad_lines = False)"
   ]
  },
  {
   "cell_type": "markdown",
   "metadata": {},
   "source": [
    "Now, I'm going to view the first few rows of my dataframe to get an initial idea about it:"
   ]
  },
  {
   "cell_type": "code",
   "execution_count": 3,
   "metadata": {},
   "outputs": [
    {
     "data": {
      "text/html": [
       "<div>\n",
       "<style scoped>\n",
       "    .dataframe tbody tr th:only-of-type {\n",
       "        vertical-align: middle;\n",
       "    }\n",
       "\n",
       "    .dataframe tbody tr th {\n",
       "        vertical-align: top;\n",
       "    }\n",
       "\n",
       "    .dataframe thead th {\n",
       "        text-align: right;\n",
       "    }\n",
       "</style>\n",
       "<table border=\"1\" class=\"dataframe\">\n",
       "  <thead>\n",
       "    <tr style=\"text-align: right;\">\n",
       "      <th></th>\n",
       "      <th>Unnamed: 0</th>\n",
       "      <th>Name</th>\n",
       "      <th>University</th>\n",
       "      <th>Course</th>\n",
       "      <th>Year</th>\n",
       "      <th>Status</th>\n",
       "      <th>GRE_SCORE</th>\n",
       "      <th>Eng_test</th>\n",
       "      <th>Test_score</th>\n",
       "      <th>Undergrad_score</th>\n",
       "      <th>work_ex</th>\n",
       "    </tr>\n",
       "  </thead>\n",
       "  <tbody>\n",
       "    <tr>\n",
       "      <td>0</td>\n",
       "      <td>1</td>\n",
       "      <td>753255</td>\n",
       "      <td>Arizona State University</td>\n",
       "      <td>Management Information System</td>\n",
       "      <td>Fall 2018</td>\n",
       "      <td>Applied</td>\n",
       "      <td>313</td>\n",
       "      <td>TOEFL</td>\n",
       "      <td>107</td>\n",
       "      <td>62%</td>\n",
       "      <td>6 months</td>\n",
       "    </tr>\n",
       "    <tr>\n",
       "      <td>1</td>\n",
       "      <td>2</td>\n",
       "      <td>Ami0603</td>\n",
       "      <td>Arizona State University</td>\n",
       "      <td>Management Information System</td>\n",
       "      <td>Fall 2018</td>\n",
       "      <td>Applied</td>\n",
       "      <td>314</td>\n",
       "      <td>TOEFL</td>\n",
       "      <td>106</td>\n",
       "      <td>7.63 CGPA</td>\n",
       "      <td>6 months</td>\n",
       "    </tr>\n",
       "    <tr>\n",
       "      <td>2</td>\n",
       "      <td>3</td>\n",
       "      <td>Sonajan</td>\n",
       "      <td>Arizona State University</td>\n",
       "      <td>Management Information System</td>\n",
       "      <td>Fall 2018</td>\n",
       "      <td>Applied</td>\n",
       "      <td>314</td>\n",
       "      <td>ENG TEST</td>\n",
       "      <td>NaN</td>\n",
       "      <td>80.68%</td>\n",
       "      <td>48 months</td>\n",
       "    </tr>\n",
       "    <tr>\n",
       "      <td>3</td>\n",
       "      <td>4</td>\n",
       "      <td>saniya264</td>\n",
       "      <td>Arizona State University</td>\n",
       "      <td>Management Information System</td>\n",
       "      <td>Fall 2018</td>\n",
       "      <td>Applied</td>\n",
       "      <td>307</td>\n",
       "      <td>TOEFL</td>\n",
       "      <td>109</td>\n",
       "      <td>62%</td>\n",
       "      <td>1 month</td>\n",
       "    </tr>\n",
       "    <tr>\n",
       "      <td>4</td>\n",
       "      <td>5</td>\n",
       "      <td>Abhiraj29</td>\n",
       "      <td>Arizona State University</td>\n",
       "      <td>Management Information System</td>\n",
       "      <td>Fall 2018</td>\n",
       "      <td>Applied</td>\n",
       "      <td>290</td>\n",
       "      <td>IELTS</td>\n",
       "      <td>7.5</td>\n",
       "      <td>7 CGPA</td>\n",
       "      <td>48 months</td>\n",
       "    </tr>\n",
       "  </tbody>\n",
       "</table>\n",
       "</div>"
      ],
      "text/plain": [
       "  Unnamed: 0       Name                University  \\\n",
       "0          1     753255  Arizona State University   \n",
       "1          2    Ami0603  Arizona State University   \n",
       "2          3    Sonajan  Arizona State University   \n",
       "3          4  saniya264  Arizona State University   \n",
       "4          5  Abhiraj29  Arizona State University   \n",
       "\n",
       "                          Course        Year   Status GRE_SCORE  Eng_test  \\\n",
       "0  Management Information System  Fall 2018   Applied       313     TOEFL   \n",
       "1  Management Information System  Fall 2018   Applied       314     TOEFL   \n",
       "2  Management Information System  Fall 2018   Applied       314  ENG TEST   \n",
       "3  Management Information System  Fall 2018   Applied       307     TOEFL   \n",
       "4  Management Information System  Fall 2018   Applied       290     IELTS   \n",
       "\n",
       "  Test_score Undergrad_score    work_ex  \n",
       "0        107             62%   6 months  \n",
       "1        106      7.63 CGPA    6 months  \n",
       "2        NaN          80.68%  48 months  \n",
       "3        109             62%    1 month  \n",
       "4        7.5         7 CGPA   48 months  "
      ]
     },
     "execution_count": 3,
     "metadata": {},
     "output_type": "execute_result"
    }
   ],
   "source": [
    "data.head()"
   ]
  },
  {
   "cell_type": "markdown",
   "metadata": {},
   "source": [
    "First impressions of the data show that it will require changes to the column names (I'll be making it lowercase for ease of access) and removal of the redundant index column."
   ]
  },
  {
   "cell_type": "code",
   "execution_count": 4,
   "metadata": {},
   "outputs": [],
   "source": [
    "data.columns = data.columns.str.lower()"
   ]
  },
  {
   "cell_type": "code",
   "execution_count": 5,
   "metadata": {},
   "outputs": [
    {
     "data": {
      "text/html": [
       "<div>\n",
       "<style scoped>\n",
       "    .dataframe tbody tr th:only-of-type {\n",
       "        vertical-align: middle;\n",
       "    }\n",
       "\n",
       "    .dataframe tbody tr th {\n",
       "        vertical-align: top;\n",
       "    }\n",
       "\n",
       "    .dataframe thead th {\n",
       "        text-align: right;\n",
       "    }\n",
       "</style>\n",
       "<table border=\"1\" class=\"dataframe\">\n",
       "  <thead>\n",
       "    <tr style=\"text-align: right;\">\n",
       "      <th></th>\n",
       "      <th>name</th>\n",
       "      <th>university</th>\n",
       "      <th>course</th>\n",
       "      <th>year</th>\n",
       "      <th>status</th>\n",
       "      <th>gre_score</th>\n",
       "      <th>eng_test</th>\n",
       "      <th>test_score</th>\n",
       "      <th>undergrad_score</th>\n",
       "      <th>work_ex</th>\n",
       "    </tr>\n",
       "  </thead>\n",
       "  <tbody>\n",
       "    <tr>\n",
       "      <td>0</td>\n",
       "      <td>753255</td>\n",
       "      <td>Arizona State University</td>\n",
       "      <td>Management Information System</td>\n",
       "      <td>Fall 2018</td>\n",
       "      <td>Applied</td>\n",
       "      <td>313</td>\n",
       "      <td>TOEFL</td>\n",
       "      <td>107</td>\n",
       "      <td>62%</td>\n",
       "      <td>6 months</td>\n",
       "    </tr>\n",
       "    <tr>\n",
       "      <td>1</td>\n",
       "      <td>Ami0603</td>\n",
       "      <td>Arizona State University</td>\n",
       "      <td>Management Information System</td>\n",
       "      <td>Fall 2018</td>\n",
       "      <td>Applied</td>\n",
       "      <td>314</td>\n",
       "      <td>TOEFL</td>\n",
       "      <td>106</td>\n",
       "      <td>7.63 CGPA</td>\n",
       "      <td>6 months</td>\n",
       "    </tr>\n",
       "    <tr>\n",
       "      <td>2</td>\n",
       "      <td>Sonajan</td>\n",
       "      <td>Arizona State University</td>\n",
       "      <td>Management Information System</td>\n",
       "      <td>Fall 2018</td>\n",
       "      <td>Applied</td>\n",
       "      <td>314</td>\n",
       "      <td>ENG TEST</td>\n",
       "      <td>NaN</td>\n",
       "      <td>80.68%</td>\n",
       "      <td>48 months</td>\n",
       "    </tr>\n",
       "    <tr>\n",
       "      <td>3</td>\n",
       "      <td>saniya264</td>\n",
       "      <td>Arizona State University</td>\n",
       "      <td>Management Information System</td>\n",
       "      <td>Fall 2018</td>\n",
       "      <td>Applied</td>\n",
       "      <td>307</td>\n",
       "      <td>TOEFL</td>\n",
       "      <td>109</td>\n",
       "      <td>62%</td>\n",
       "      <td>1 month</td>\n",
       "    </tr>\n",
       "    <tr>\n",
       "      <td>4</td>\n",
       "      <td>Abhiraj29</td>\n",
       "      <td>Arizona State University</td>\n",
       "      <td>Management Information System</td>\n",
       "      <td>Fall 2018</td>\n",
       "      <td>Applied</td>\n",
       "      <td>290</td>\n",
       "      <td>IELTS</td>\n",
       "      <td>7.5</td>\n",
       "      <td>7 CGPA</td>\n",
       "      <td>48 months</td>\n",
       "    </tr>\n",
       "  </tbody>\n",
       "</table>\n",
       "</div>"
      ],
      "text/plain": [
       "        name                university                         course  \\\n",
       "0     753255  Arizona State University  Management Information System   \n",
       "1    Ami0603  Arizona State University  Management Information System   \n",
       "2    Sonajan  Arizona State University  Management Information System   \n",
       "3  saniya264  Arizona State University  Management Information System   \n",
       "4  Abhiraj29  Arizona State University  Management Information System   \n",
       "\n",
       "         year   status gre_score  eng_test test_score undergrad_score  \\\n",
       "0  Fall 2018   Applied       313     TOEFL        107             62%   \n",
       "1  Fall 2018   Applied       314     TOEFL        106      7.63 CGPA    \n",
       "2  Fall 2018   Applied       314  ENG TEST        NaN          80.68%   \n",
       "3  Fall 2018   Applied       307     TOEFL        109             62%   \n",
       "4  Fall 2018   Applied       290     IELTS        7.5         7 CGPA    \n",
       "\n",
       "     work_ex  \n",
       "0   6 months  \n",
       "1   6 months  \n",
       "2  48 months  \n",
       "3    1 month  \n",
       "4  48 months  "
      ]
     },
     "execution_count": 5,
     "metadata": {},
     "output_type": "execute_result"
    }
   ],
   "source": [
    "data.drop(data.columns[data.columns.str.contains('unnamed',case = False)],axis = 1, inplace = True)\n",
    "data.head()"
   ]
  },
  {
   "cell_type": "markdown",
   "metadata": {},
   "source": [
    "Now let's take a closer look at the data:"
   ]
  },
  {
   "cell_type": "code",
   "execution_count": 6,
   "metadata": {},
   "outputs": [
    {
     "data": {
      "text/html": [
       "<div>\n",
       "<style scoped>\n",
       "    .dataframe tbody tr th:only-of-type {\n",
       "        vertical-align: middle;\n",
       "    }\n",
       "\n",
       "    .dataframe tbody tr th {\n",
       "        vertical-align: top;\n",
       "    }\n",
       "\n",
       "    .dataframe thead th {\n",
       "        text-align: right;\n",
       "    }\n",
       "</style>\n",
       "<table border=\"1\" class=\"dataframe\">\n",
       "  <thead>\n",
       "    <tr style=\"text-align: right;\">\n",
       "      <th></th>\n",
       "      <th>name</th>\n",
       "      <th>university</th>\n",
       "      <th>course</th>\n",
       "      <th>year</th>\n",
       "      <th>status</th>\n",
       "      <th>gre_score</th>\n",
       "      <th>eng_test</th>\n",
       "      <th>test_score</th>\n",
       "      <th>undergrad_score</th>\n",
       "      <th>work_ex</th>\n",
       "    </tr>\n",
       "  </thead>\n",
       "  <tbody>\n",
       "    <tr>\n",
       "      <td>count</td>\n",
       "      <td>2597</td>\n",
       "      <td>2597</td>\n",
       "      <td>2594</td>\n",
       "      <td>2597</td>\n",
       "      <td>2597</td>\n",
       "      <td>2159</td>\n",
       "      <td>2594</td>\n",
       "      <td>2040</td>\n",
       "      <td>2594</td>\n",
       "      <td>2068</td>\n",
       "    </tr>\n",
       "    <tr>\n",
       "      <td>unique</td>\n",
       "      <td>1619</td>\n",
       "      <td>43</td>\n",
       "      <td>13</td>\n",
       "      <td>25</td>\n",
       "      <td>6</td>\n",
       "      <td>60</td>\n",
       "      <td>4</td>\n",
       "      <td>55</td>\n",
       "      <td>575</td>\n",
       "      <td>84</td>\n",
       "    </tr>\n",
       "    <tr>\n",
       "      <td>top</td>\n",
       "      <td>Name</td>\n",
       "      <td>Carnegie Mellon University</td>\n",
       "      <td>Management Information System</td>\n",
       "      <td>Fall 2018</td>\n",
       "      <td>Interested</td>\n",
       "      <td>310</td>\n",
       "      <td>TOEFL</td>\n",
       "      <td>7</td>\n",
       "      <td>65%</td>\n",
       "      <td>30 months</td>\n",
       "    </tr>\n",
       "    <tr>\n",
       "      <td>freq</td>\n",
       "      <td>39</td>\n",
       "      <td>160</td>\n",
       "      <td>1709</td>\n",
       "      <td>1276</td>\n",
       "      <td>791</td>\n",
       "      <td>97</td>\n",
       "      <td>1718</td>\n",
       "      <td>114</td>\n",
       "      <td>72</td>\n",
       "      <td>116</td>\n",
       "    </tr>\n",
       "  </tbody>\n",
       "</table>\n",
       "</div>"
      ],
      "text/plain": [
       "        name                  university                         course  \\\n",
       "count   2597                        2597                           2594   \n",
       "unique  1619                          43                             13   \n",
       "top     Name  Carnegie Mellon University  Management Information System   \n",
       "freq      39                         160                           1709   \n",
       "\n",
       "              year      status gre_score eng_test test_score undergrad_score  \\\n",
       "count         2597        2597      2159     2594       2040            2594   \n",
       "unique          25           6        60        4         55             575   \n",
       "top     Fall 2018   Interested       310    TOEFL          7             65%   \n",
       "freq          1276         791        97     1718        114              72   \n",
       "\n",
       "          work_ex  \n",
       "count        2068  \n",
       "unique         84  \n",
       "top     30 months  \n",
       "freq          116  "
      ]
     },
     "execution_count": 6,
     "metadata": {},
     "output_type": "execute_result"
    }
   ],
   "source": [
    "data.describe()"
   ]
  },
  {
   "cell_type": "markdown",
   "metadata": {},
   "source": [
    "On further inspection, I found that the column names repeated in the form of a new row in the dataframe:"
   ]
  },
  {
   "cell_type": "code",
   "execution_count": 7,
   "metadata": {},
   "outputs": [
    {
     "data": {
      "text/html": [
       "<div>\n",
       "<style scoped>\n",
       "    .dataframe tbody tr th:only-of-type {\n",
       "        vertical-align: middle;\n",
       "    }\n",
       "\n",
       "    .dataframe tbody tr th {\n",
       "        vertical-align: top;\n",
       "    }\n",
       "\n",
       "    .dataframe thead th {\n",
       "        text-align: right;\n",
       "    }\n",
       "</style>\n",
       "<table border=\"1\" class=\"dataframe\">\n",
       "  <thead>\n",
       "    <tr style=\"text-align: right;\">\n",
       "      <th></th>\n",
       "      <th>name</th>\n",
       "      <th>university</th>\n",
       "      <th>course</th>\n",
       "      <th>year</th>\n",
       "      <th>status</th>\n",
       "      <th>gre_score</th>\n",
       "      <th>eng_test</th>\n",
       "      <th>test_score</th>\n",
       "      <th>undergrad_score</th>\n",
       "      <th>work_ex</th>\n",
       "    </tr>\n",
       "  </thead>\n",
       "  <tbody>\n",
       "    <tr>\n",
       "      <td>80</td>\n",
       "      <td>Name</td>\n",
       "      <td>University</td>\n",
       "      <td>Course</td>\n",
       "      <td>Year</td>\n",
       "      <td>Status</td>\n",
       "      <td>GRE_SCORE</td>\n",
       "      <td>Eng_test</td>\n",
       "      <td>Test_score</td>\n",
       "      <td>Undergrad_score</td>\n",
       "      <td>work_ex</td>\n",
       "    </tr>\n",
       "    <tr>\n",
       "      <td>119</td>\n",
       "      <td>Name</td>\n",
       "      <td>University</td>\n",
       "      <td>NaN</td>\n",
       "      <td>Year</td>\n",
       "      <td>Status</td>\n",
       "      <td>GRE_SCORE</td>\n",
       "      <td>Eng_test</td>\n",
       "      <td>Test_score</td>\n",
       "      <td>Undergrad_score</td>\n",
       "      <td>work_ex</td>\n",
       "    </tr>\n",
       "    <tr>\n",
       "      <td>200</td>\n",
       "      <td>Name</td>\n",
       "      <td>University</td>\n",
       "      <td>Course</td>\n",
       "      <td>Year</td>\n",
       "      <td>Status</td>\n",
       "      <td>GRE_SCORE</td>\n",
       "      <td>Eng_test</td>\n",
       "      <td>Test_score</td>\n",
       "      <td>Undergrad_score</td>\n",
       "      <td>work_ex</td>\n",
       "    </tr>\n",
       "    <tr>\n",
       "      <td>281</td>\n",
       "      <td>Name</td>\n",
       "      <td>University</td>\n",
       "      <td>Course</td>\n",
       "      <td>Year</td>\n",
       "      <td>Status</td>\n",
       "      <td>GRE_SCORE</td>\n",
       "      <td>Eng_test</td>\n",
       "      <td>Test_score</td>\n",
       "      <td>Undergrad_score</td>\n",
       "      <td>work_ex</td>\n",
       "    </tr>\n",
       "    <tr>\n",
       "      <td>324</td>\n",
       "      <td>Name</td>\n",
       "      <td>University</td>\n",
       "      <td>Course</td>\n",
       "      <td>Year</td>\n",
       "      <td>Status</td>\n",
       "      <td>GRE_SCORE</td>\n",
       "      <td>Eng_test</td>\n",
       "      <td>Test_score</td>\n",
       "      <td>Undergrad_score</td>\n",
       "      <td>work_ex</td>\n",
       "    </tr>\n",
       "    <tr>\n",
       "      <td>375</td>\n",
       "      <td>Name</td>\n",
       "      <td>University</td>\n",
       "      <td>Course</td>\n",
       "      <td>Year</td>\n",
       "      <td>Status</td>\n",
       "      <td>GRE_SCORE</td>\n",
       "      <td>Eng_test</td>\n",
       "      <td>Test_score</td>\n",
       "      <td>Undergrad_score</td>\n",
       "      <td>work_ex</td>\n",
       "    </tr>\n",
       "    <tr>\n",
       "      <td>456</td>\n",
       "      <td>Name</td>\n",
       "      <td>University</td>\n",
       "      <td>Course</td>\n",
       "      <td>Year</td>\n",
       "      <td>Status</td>\n",
       "      <td>GRE_SCORE</td>\n",
       "      <td>Eng_test</td>\n",
       "      <td>Test_score</td>\n",
       "      <td>Undergrad_score</td>\n",
       "      <td>work_ex</td>\n",
       "    </tr>\n",
       "    <tr>\n",
       "      <td>537</td>\n",
       "      <td>Name</td>\n",
       "      <td>University</td>\n",
       "      <td>Course</td>\n",
       "      <td>Year</td>\n",
       "      <td>Status</td>\n",
       "      <td>GRE_SCORE</td>\n",
       "      <td>Eng_test</td>\n",
       "      <td>Test_score</td>\n",
       "      <td>Undergrad_score</td>\n",
       "      <td>work_ex</td>\n",
       "    </tr>\n",
       "    <tr>\n",
       "      <td>618</td>\n",
       "      <td>Name</td>\n",
       "      <td>University</td>\n",
       "      <td>Course</td>\n",
       "      <td>Year</td>\n",
       "      <td>Status</td>\n",
       "      <td>GRE_SCORE</td>\n",
       "      <td>Eng_test</td>\n",
       "      <td>Test_score</td>\n",
       "      <td>Undergrad_score</td>\n",
       "      <td>work_ex</td>\n",
       "    </tr>\n",
       "    <tr>\n",
       "      <td>699</td>\n",
       "      <td>Name</td>\n",
       "      <td>University</td>\n",
       "      <td>Course</td>\n",
       "      <td>Year</td>\n",
       "      <td>Status</td>\n",
       "      <td>GRE_SCORE</td>\n",
       "      <td>Eng_test</td>\n",
       "      <td>Test_score</td>\n",
       "      <td>Undergrad_score</td>\n",
       "      <td>work_ex</td>\n",
       "    </tr>\n",
       "    <tr>\n",
       "      <td>734</td>\n",
       "      <td>Name</td>\n",
       "      <td>University</td>\n",
       "      <td>Course</td>\n",
       "      <td>Year</td>\n",
       "      <td>Status</td>\n",
       "      <td>GRE_SCORE</td>\n",
       "      <td>Eng_test</td>\n",
       "      <td>Test_score</td>\n",
       "      <td>Undergrad_score</td>\n",
       "      <td>work_ex</td>\n",
       "    </tr>\n",
       "    <tr>\n",
       "      <td>813</td>\n",
       "      <td>Name</td>\n",
       "      <td>University</td>\n",
       "      <td>Course</td>\n",
       "      <td>Year</td>\n",
       "      <td>Status</td>\n",
       "      <td>GRE_SCORE</td>\n",
       "      <td>Eng_test</td>\n",
       "      <td>Test_score</td>\n",
       "      <td>Undergrad_score</td>\n",
       "      <td>work_ex</td>\n",
       "    </tr>\n",
       "    <tr>\n",
       "      <td>849</td>\n",
       "      <td>Name</td>\n",
       "      <td>University</td>\n",
       "      <td>Course</td>\n",
       "      <td>Year</td>\n",
       "      <td>Status</td>\n",
       "      <td>GRE_SCORE</td>\n",
       "      <td>Eng_test</td>\n",
       "      <td>Test_score</td>\n",
       "      <td>Undergrad_score</td>\n",
       "      <td>work_ex</td>\n",
       "    </tr>\n",
       "    <tr>\n",
       "      <td>929</td>\n",
       "      <td>Name</td>\n",
       "      <td>University</td>\n",
       "      <td>Course</td>\n",
       "      <td>Year</td>\n",
       "      <td>Status</td>\n",
       "      <td>GRE_SCORE</td>\n",
       "      <td>Eng_test</td>\n",
       "      <td>Test_score</td>\n",
       "      <td>Undergrad_score</td>\n",
       "      <td>work_ex</td>\n",
       "    </tr>\n",
       "    <tr>\n",
       "      <td>964</td>\n",
       "      <td>Name</td>\n",
       "      <td>University</td>\n",
       "      <td>Course</td>\n",
       "      <td>Year</td>\n",
       "      <td>Status</td>\n",
       "      <td>GRE_SCORE</td>\n",
       "      <td>Eng_test</td>\n",
       "      <td>Test_score</td>\n",
       "      <td>Undergrad_score</td>\n",
       "      <td>work_ex</td>\n",
       "    </tr>\n",
       "    <tr>\n",
       "      <td>1040</td>\n",
       "      <td>Name</td>\n",
       "      <td>University</td>\n",
       "      <td>Course</td>\n",
       "      <td>Year</td>\n",
       "      <td>Status</td>\n",
       "      <td>GRE_SCORE</td>\n",
       "      <td>Eng_test</td>\n",
       "      <td>Test_score</td>\n",
       "      <td>Undergrad_score</td>\n",
       "      <td>work_ex</td>\n",
       "    </tr>\n",
       "    <tr>\n",
       "      <td>1085</td>\n",
       "      <td>Name</td>\n",
       "      <td>University</td>\n",
       "      <td>Course</td>\n",
       "      <td>Year</td>\n",
       "      <td>Status</td>\n",
       "      <td>GRE_SCORE</td>\n",
       "      <td>Eng_test</td>\n",
       "      <td>Test_score</td>\n",
       "      <td>Undergrad_score</td>\n",
       "      <td>work_ex</td>\n",
       "    </tr>\n",
       "    <tr>\n",
       "      <td>1115</td>\n",
       "      <td>Name</td>\n",
       "      <td>University</td>\n",
       "      <td>Course</td>\n",
       "      <td>Year</td>\n",
       "      <td>Status</td>\n",
       "      <td>GRE_SCORE</td>\n",
       "      <td>Eng_test</td>\n",
       "      <td>Test_score</td>\n",
       "      <td>Undergrad_score</td>\n",
       "      <td>work_ex</td>\n",
       "    </tr>\n",
       "    <tr>\n",
       "      <td>1179</td>\n",
       "      <td>Name</td>\n",
       "      <td>University</td>\n",
       "      <td>Course</td>\n",
       "      <td>Year</td>\n",
       "      <td>Status</td>\n",
       "      <td>GRE_SCORE</td>\n",
       "      <td>Eng_test</td>\n",
       "      <td>Test_score</td>\n",
       "      <td>Undergrad_score</td>\n",
       "      <td>work_ex</td>\n",
       "    </tr>\n",
       "    <tr>\n",
       "      <td>1251</td>\n",
       "      <td>Name</td>\n",
       "      <td>University</td>\n",
       "      <td>Course</td>\n",
       "      <td>Year</td>\n",
       "      <td>Status</td>\n",
       "      <td>GRE_SCORE</td>\n",
       "      <td>Eng_test</td>\n",
       "      <td>Test_score</td>\n",
       "      <td>Undergrad_score</td>\n",
       "      <td>work_ex</td>\n",
       "    </tr>\n",
       "    <tr>\n",
       "      <td>1332</td>\n",
       "      <td>Name</td>\n",
       "      <td>University</td>\n",
       "      <td>Course</td>\n",
       "      <td>Year</td>\n",
       "      <td>Status</td>\n",
       "      <td>GRE_SCORE</td>\n",
       "      <td>Eng_test</td>\n",
       "      <td>Test_score</td>\n",
       "      <td>Undergrad_score</td>\n",
       "      <td>work_ex</td>\n",
       "    </tr>\n",
       "    <tr>\n",
       "      <td>1413</td>\n",
       "      <td>Name</td>\n",
       "      <td>University</td>\n",
       "      <td>Course</td>\n",
       "      <td>Year</td>\n",
       "      <td>Status</td>\n",
       "      <td>GRE_SCORE</td>\n",
       "      <td>Eng_test</td>\n",
       "      <td>Test_score</td>\n",
       "      <td>Undergrad_score</td>\n",
       "      <td>work_ex</td>\n",
       "    </tr>\n",
       "    <tr>\n",
       "      <td>1494</td>\n",
       "      <td>Name</td>\n",
       "      <td>University</td>\n",
       "      <td>Course</td>\n",
       "      <td>Year</td>\n",
       "      <td>Status</td>\n",
       "      <td>GRE_SCORE</td>\n",
       "      <td>Eng_test</td>\n",
       "      <td>Test_score</td>\n",
       "      <td>Undergrad_score</td>\n",
       "      <td>work_ex</td>\n",
       "    </tr>\n",
       "    <tr>\n",
       "      <td>1575</td>\n",
       "      <td>Name</td>\n",
       "      <td>University</td>\n",
       "      <td>NaN</td>\n",
       "      <td>Year</td>\n",
       "      <td>Status</td>\n",
       "      <td>GRE_SCORE</td>\n",
       "      <td>Eng_test</td>\n",
       "      <td>Test_score</td>\n",
       "      <td>Undergrad_score</td>\n",
       "      <td>work_ex</td>\n",
       "    </tr>\n",
       "    <tr>\n",
       "      <td>1606</td>\n",
       "      <td>Name</td>\n",
       "      <td>University</td>\n",
       "      <td>Course</td>\n",
       "      <td>Year</td>\n",
       "      <td>Status</td>\n",
       "      <td>GRE_SCORE</td>\n",
       "      <td>Eng_test</td>\n",
       "      <td>Test_score</td>\n",
       "      <td>Undergrad_score</td>\n",
       "      <td>work_ex</td>\n",
       "    </tr>\n",
       "    <tr>\n",
       "      <td>1687</td>\n",
       "      <td>Name</td>\n",
       "      <td>University</td>\n",
       "      <td>Course</td>\n",
       "      <td>Year</td>\n",
       "      <td>Status</td>\n",
       "      <td>GRE_SCORE</td>\n",
       "      <td>Eng_test</td>\n",
       "      <td>Test_score</td>\n",
       "      <td>Undergrad_score</td>\n",
       "      <td>work_ex</td>\n",
       "    </tr>\n",
       "    <tr>\n",
       "      <td>1722</td>\n",
       "      <td>Name</td>\n",
       "      <td>University</td>\n",
       "      <td>Course</td>\n",
       "      <td>Year</td>\n",
       "      <td>Status</td>\n",
       "      <td>GRE_SCORE</td>\n",
       "      <td>Eng_test</td>\n",
       "      <td>Test_score</td>\n",
       "      <td>Undergrad_score</td>\n",
       "      <td>work_ex</td>\n",
       "    </tr>\n",
       "    <tr>\n",
       "      <td>1799</td>\n",
       "      <td>Name</td>\n",
       "      <td>University</td>\n",
       "      <td>course</td>\n",
       "      <td>Year</td>\n",
       "      <td>Status</td>\n",
       "      <td>GRE_SCORE</td>\n",
       "      <td>Eng_test</td>\n",
       "      <td>Test_score</td>\n",
       "      <td>Undergrad_score</td>\n",
       "      <td>work_ex</td>\n",
       "    </tr>\n",
       "    <tr>\n",
       "      <td>1880</td>\n",
       "      <td>Name</td>\n",
       "      <td>University</td>\n",
       "      <td>Course</td>\n",
       "      <td>Year</td>\n",
       "      <td>Status</td>\n",
       "      <td>GRE_SCORE</td>\n",
       "      <td>Eng_test</td>\n",
       "      <td>Test_score</td>\n",
       "      <td>Undergrad_score</td>\n",
       "      <td>work_ex</td>\n",
       "    </tr>\n",
       "    <tr>\n",
       "      <td>1904</td>\n",
       "      <td>Name</td>\n",
       "      <td>University</td>\n",
       "      <td>NaN</td>\n",
       "      <td>Year</td>\n",
       "      <td>Status</td>\n",
       "      <td>GRE_SCORE</td>\n",
       "      <td>Eng_test</td>\n",
       "      <td>Test_score</td>\n",
       "      <td>Undergrad_score</td>\n",
       "      <td>work_ex</td>\n",
       "    </tr>\n",
       "    <tr>\n",
       "      <td>1985</td>\n",
       "      <td>Name</td>\n",
       "      <td>University</td>\n",
       "      <td>Course</td>\n",
       "      <td>Year</td>\n",
       "      <td>Status</td>\n",
       "      <td>GRE_SCORE</td>\n",
       "      <td>Eng_test</td>\n",
       "      <td>Test_score</td>\n",
       "      <td>Undergrad_score</td>\n",
       "      <td>work_ex</td>\n",
       "    </tr>\n",
       "    <tr>\n",
       "      <td>2066</td>\n",
       "      <td>Name</td>\n",
       "      <td>University</td>\n",
       "      <td>Course</td>\n",
       "      <td>Year</td>\n",
       "      <td>Status</td>\n",
       "      <td>GRE_SCORE</td>\n",
       "      <td>Eng_test</td>\n",
       "      <td>Test_score</td>\n",
       "      <td>Undergrad_score</td>\n",
       "      <td>work_ex</td>\n",
       "    </tr>\n",
       "    <tr>\n",
       "      <td>2094</td>\n",
       "      <td>Name</td>\n",
       "      <td>University</td>\n",
       "      <td>Course</td>\n",
       "      <td>Year</td>\n",
       "      <td>Status</td>\n",
       "      <td>GRE_SCORE</td>\n",
       "      <td>Eng_test</td>\n",
       "      <td>Test_score</td>\n",
       "      <td>Undergrad_score</td>\n",
       "      <td>work_ex</td>\n",
       "    </tr>\n",
       "    <tr>\n",
       "      <td>2170</td>\n",
       "      <td>Name</td>\n",
       "      <td>University</td>\n",
       "      <td>Course</td>\n",
       "      <td>Year</td>\n",
       "      <td>Status</td>\n",
       "      <td>GRE_SCORE</td>\n",
       "      <td>Eng_test</td>\n",
       "      <td>Test_score</td>\n",
       "      <td>Undergrad_score</td>\n",
       "      <td>work_ex</td>\n",
       "    </tr>\n",
       "    <tr>\n",
       "      <td>2251</td>\n",
       "      <td>Name</td>\n",
       "      <td>University</td>\n",
       "      <td>Course</td>\n",
       "      <td>Year</td>\n",
       "      <td>Status</td>\n",
       "      <td>GRE_SCORE</td>\n",
       "      <td>Eng_test</td>\n",
       "      <td>Test_score</td>\n",
       "      <td>Undergrad_score</td>\n",
       "      <td>work_ex</td>\n",
       "    </tr>\n",
       "    <tr>\n",
       "      <td>2322</td>\n",
       "      <td>Name</td>\n",
       "      <td>University</td>\n",
       "      <td>Course</td>\n",
       "      <td>Year</td>\n",
       "      <td>Status</td>\n",
       "      <td>GRE_SCORE</td>\n",
       "      <td>Eng_test</td>\n",
       "      <td>Test_score</td>\n",
       "      <td>Undergrad_score</td>\n",
       "      <td>work_ex</td>\n",
       "    </tr>\n",
       "    <tr>\n",
       "      <td>2387</td>\n",
       "      <td>Name</td>\n",
       "      <td>University</td>\n",
       "      <td>Course</td>\n",
       "      <td>Year</td>\n",
       "      <td>Status</td>\n",
       "      <td>GRE_SCORE</td>\n",
       "      <td>Eng_test</td>\n",
       "      <td>Test_score</td>\n",
       "      <td>Undergrad_score</td>\n",
       "      <td>work_ex</td>\n",
       "    </tr>\n",
       "    <tr>\n",
       "      <td>2468</td>\n",
       "      <td>Name</td>\n",
       "      <td>University</td>\n",
       "      <td>Course</td>\n",
       "      <td>Year</td>\n",
       "      <td>Status</td>\n",
       "      <td>GRE_SCORE</td>\n",
       "      <td>Eng_test</td>\n",
       "      <td>Test_score</td>\n",
       "      <td>Undergrad_score</td>\n",
       "      <td>work_ex</td>\n",
       "    </tr>\n",
       "    <tr>\n",
       "      <td>2531</td>\n",
       "      <td>Name</td>\n",
       "      <td>University</td>\n",
       "      <td>Course</td>\n",
       "      <td>Year</td>\n",
       "      <td>Status</td>\n",
       "      <td>GRE_SCORE</td>\n",
       "      <td>Eng_test</td>\n",
       "      <td>Test_score</td>\n",
       "      <td>Undergrad_score</td>\n",
       "      <td>work_ex</td>\n",
       "    </tr>\n",
       "  </tbody>\n",
       "</table>\n",
       "</div>"
      ],
      "text/plain": [
       "      name  university  course  year  status  gre_score  eng_test  test_score  \\\n",
       "80    Name  University  Course  Year  Status  GRE_SCORE  Eng_test  Test_score   \n",
       "119   Name  University     NaN  Year  Status  GRE_SCORE  Eng_test  Test_score   \n",
       "200   Name  University  Course  Year  Status  GRE_SCORE  Eng_test  Test_score   \n",
       "281   Name  University  Course  Year  Status  GRE_SCORE  Eng_test  Test_score   \n",
       "324   Name  University  Course  Year  Status  GRE_SCORE  Eng_test  Test_score   \n",
       "375   Name  University  Course  Year  Status  GRE_SCORE  Eng_test  Test_score   \n",
       "456   Name  University  Course  Year  Status  GRE_SCORE  Eng_test  Test_score   \n",
       "537   Name  University  Course  Year  Status  GRE_SCORE  Eng_test  Test_score   \n",
       "618   Name  University  Course  Year  Status  GRE_SCORE  Eng_test  Test_score   \n",
       "699   Name  University  Course  Year  Status  GRE_SCORE  Eng_test  Test_score   \n",
       "734   Name  University  Course  Year  Status  GRE_SCORE  Eng_test  Test_score   \n",
       "813   Name  University  Course  Year  Status  GRE_SCORE  Eng_test  Test_score   \n",
       "849   Name  University  Course  Year  Status  GRE_SCORE  Eng_test  Test_score   \n",
       "929   Name  University  Course  Year  Status  GRE_SCORE  Eng_test  Test_score   \n",
       "964   Name  University  Course  Year  Status  GRE_SCORE  Eng_test  Test_score   \n",
       "1040  Name  University  Course  Year  Status  GRE_SCORE  Eng_test  Test_score   \n",
       "1085  Name  University  Course  Year  Status  GRE_SCORE  Eng_test  Test_score   \n",
       "1115  Name  University  Course  Year  Status  GRE_SCORE  Eng_test  Test_score   \n",
       "1179  Name  University  Course  Year  Status  GRE_SCORE  Eng_test  Test_score   \n",
       "1251  Name  University  Course  Year  Status  GRE_SCORE  Eng_test  Test_score   \n",
       "1332  Name  University  Course  Year  Status  GRE_SCORE  Eng_test  Test_score   \n",
       "1413  Name  University  Course  Year  Status  GRE_SCORE  Eng_test  Test_score   \n",
       "1494  Name  University  Course  Year  Status  GRE_SCORE  Eng_test  Test_score   \n",
       "1575  Name  University     NaN  Year  Status  GRE_SCORE  Eng_test  Test_score   \n",
       "1606  Name  University  Course  Year  Status  GRE_SCORE  Eng_test  Test_score   \n",
       "1687  Name  University  Course  Year  Status  GRE_SCORE  Eng_test  Test_score   \n",
       "1722  Name  University  Course  Year  Status  GRE_SCORE  Eng_test  Test_score   \n",
       "1799  Name  University  course  Year  Status  GRE_SCORE  Eng_test  Test_score   \n",
       "1880  Name  University  Course  Year  Status  GRE_SCORE  Eng_test  Test_score   \n",
       "1904  Name  University     NaN  Year  Status  GRE_SCORE  Eng_test  Test_score   \n",
       "1985  Name  University  Course  Year  Status  GRE_SCORE  Eng_test  Test_score   \n",
       "2066  Name  University  Course  Year  Status  GRE_SCORE  Eng_test  Test_score   \n",
       "2094  Name  University  Course  Year  Status  GRE_SCORE  Eng_test  Test_score   \n",
       "2170  Name  University  Course  Year  Status  GRE_SCORE  Eng_test  Test_score   \n",
       "2251  Name  University  Course  Year  Status  GRE_SCORE  Eng_test  Test_score   \n",
       "2322  Name  University  Course  Year  Status  GRE_SCORE  Eng_test  Test_score   \n",
       "2387  Name  University  Course  Year  Status  GRE_SCORE  Eng_test  Test_score   \n",
       "2468  Name  University  Course  Year  Status  GRE_SCORE  Eng_test  Test_score   \n",
       "2531  Name  University  Course  Year  Status  GRE_SCORE  Eng_test  Test_score   \n",
       "\n",
       "      undergrad_score  work_ex  \n",
       "80    Undergrad_score  work_ex  \n",
       "119   Undergrad_score  work_ex  \n",
       "200   Undergrad_score  work_ex  \n",
       "281   Undergrad_score  work_ex  \n",
       "324   Undergrad_score  work_ex  \n",
       "375   Undergrad_score  work_ex  \n",
       "456   Undergrad_score  work_ex  \n",
       "537   Undergrad_score  work_ex  \n",
       "618   Undergrad_score  work_ex  \n",
       "699   Undergrad_score  work_ex  \n",
       "734   Undergrad_score  work_ex  \n",
       "813   Undergrad_score  work_ex  \n",
       "849   Undergrad_score  work_ex  \n",
       "929   Undergrad_score  work_ex  \n",
       "964   Undergrad_score  work_ex  \n",
       "1040  Undergrad_score  work_ex  \n",
       "1085  Undergrad_score  work_ex  \n",
       "1115  Undergrad_score  work_ex  \n",
       "1179  Undergrad_score  work_ex  \n",
       "1251  Undergrad_score  work_ex  \n",
       "1332  Undergrad_score  work_ex  \n",
       "1413  Undergrad_score  work_ex  \n",
       "1494  Undergrad_score  work_ex  \n",
       "1575  Undergrad_score  work_ex  \n",
       "1606  Undergrad_score  work_ex  \n",
       "1687  Undergrad_score  work_ex  \n",
       "1722  Undergrad_score  work_ex  \n",
       "1799  Undergrad_score  work_ex  \n",
       "1880  Undergrad_score  work_ex  \n",
       "1904  Undergrad_score  work_ex  \n",
       "1985  Undergrad_score  work_ex  \n",
       "2066  Undergrad_score  work_ex  \n",
       "2094  Undergrad_score  work_ex  \n",
       "2170  Undergrad_score  work_ex  \n",
       "2251  Undergrad_score  work_ex  \n",
       "2322  Undergrad_score  work_ex  \n",
       "2387  Undergrad_score  work_ex  \n",
       "2468  Undergrad_score  work_ex  \n",
       "2531  Undergrad_score  work_ex  "
      ]
     },
     "execution_count": 7,
     "metadata": {},
     "output_type": "execute_result"
    }
   ],
   "source": [
    "data[data.university=='University']"
   ]
  },
  {
   "cell_type": "markdown",
   "metadata": {},
   "source": [
    "I will be deleting these rows as they serve no real purpose to my analysis:"
   ]
  },
  {
   "cell_type": "code",
   "execution_count": 8,
   "metadata": {},
   "outputs": [],
   "source": [
    "data.drop(data[data.university=='University'].index, axis=0, inplace=True)\n",
    "data = data.reset_index(drop=True)"
   ]
  },
  {
   "cell_type": "markdown",
   "metadata": {},
   "source": [
    "<h3>Column-wise Data Cleaning</h3>\n",
    "<h5>1. Name:</h5>\n",
    "Username of the candidate plays no actual role in my analysis. hence, I'll be removing the column:"
   ]
  },
  {
   "cell_type": "code",
   "execution_count": 9,
   "metadata": {},
   "outputs": [],
   "source": [
    "data = data.drop(columns='name')"
   ]
  },
  {
   "cell_type": "markdown",
   "metadata": {},
   "source": [
    "<h5>2. University:</h5>\n",
    "I'll start by going through each value in the \"University\" column:"
   ]
  },
  {
   "cell_type": "code",
   "execution_count": 10,
   "metadata": {},
   "outputs": [
    {
     "data": {
      "text/plain": [
       "array(['Arizona State University', 'Boston University',\n",
       "       'Carnegie Mellon University', 'University of Delaware',\n",
       "       'Drexel University', 'Drexel Universit', 'University of Arizona',\n",
       "       'Illinois Institute of Technology',\n",
       "       'Illinois Institute of Technolog', 'Iowa State University',\n",
       "       'Indiana University Bloomington',\n",
       "       'University of Minnesota, Twin Cities', 'Northeastern University',\n",
       "       'Northwestern University', 'New York University',\n",
       "       'Pennsylvania State University',\n",
       "       'Rochester Institute of Technology',\n",
       "       'Rensselaer Polytechnic Institute',\n",
       "       'Rutgers University-New Brunswick', 'Rutgers University, Newark',\n",
       "       'Santa Clara University', 'Stevens Institute of Technology',\n",
       "       'University at Buffalo SUNY', 'Syracuse University',\n",
       "       'Texas A&M; University, College Station',\n",
       "       'Texas A&M; University, College Statio',\n",
       "       'University of California, Irvine', 'University of Cincinnati',\n",
       "       'University of California, Los Angeles', 'University of Florida',\n",
       "       'University of Illinois at Chicago', 'University of Iowa',\n",
       "       'University of Maryland, College Park',\n",
       "       'University of North Carolina at Charlotte',\n",
       "       'University of Pennsylvania', 'University of Texas at Dallas',\n",
       "       'University of Texas at Arlington',\n",
       "       'University of Texas at Austin', 'University of Utah',\n",
       "       'University of Washington', 'University of Washingto',\n",
       "       'Worcester Polytechnic Institute', nan], dtype=object)"
      ]
     },
     "execution_count": 10,
     "metadata": {},
     "output_type": "execute_result"
    }
   ],
   "source": [
    "data['university'].unique()"
   ]
  },
  {
   "cell_type": "markdown",
   "metadata": {},
   "source": [
    "It seems that some names are missing a letter at the end:"
   ]
  },
  {
   "cell_type": "code",
   "execution_count": 11,
   "metadata": {},
   "outputs": [
    {
     "data": {
      "text/html": [
       "<div>\n",
       "<style scoped>\n",
       "    .dataframe tbody tr th:only-of-type {\n",
       "        vertical-align: middle;\n",
       "    }\n",
       "\n",
       "    .dataframe tbody tr th {\n",
       "        vertical-align: top;\n",
       "    }\n",
       "\n",
       "    .dataframe thead th {\n",
       "        text-align: right;\n",
       "    }\n",
       "</style>\n",
       "<table border=\"1\" class=\"dataframe\">\n",
       "  <thead>\n",
       "    <tr style=\"text-align: right;\">\n",
       "      <th></th>\n",
       "      <th>university</th>\n",
       "      <th>course</th>\n",
       "      <th>year</th>\n",
       "      <th>status</th>\n",
       "      <th>gre_score</th>\n",
       "      <th>eng_test</th>\n",
       "      <th>test_score</th>\n",
       "      <th>undergrad_score</th>\n",
       "      <th>work_ex</th>\n",
       "    </tr>\n",
       "  </thead>\n",
       "  <tbody>\n",
       "    <tr>\n",
       "      <td>454</td>\n",
       "      <td>Illinois Institute of Technolog</td>\n",
       "      <td>y Management Information System</td>\n",
       "      <td>Fall 2018</td>\n",
       "      <td>Applied</td>\n",
       "      <td>289</td>\n",
       "      <td>TOEFL</td>\n",
       "      <td>92</td>\n",
       "      <td>66%</td>\n",
       "      <td>90 months</td>\n",
       "    </tr>\n",
       "    <tr>\n",
       "      <td>1544</td>\n",
       "      <td>Texas A&amp;M; University, College Statio</td>\n",
       "      <td>n Management Information System</td>\n",
       "      <td>Fall 2019</td>\n",
       "      <td>Interested</td>\n",
       "      <td>310</td>\n",
       "      <td>TOEFL</td>\n",
       "      <td>106</td>\n",
       "      <td>7.92 CGPA</td>\n",
       "      <td>35 months</td>\n",
       "    </tr>\n",
       "    <tr>\n",
       "      <td>2390</td>\n",
       "      <td>University of Washingto</td>\n",
       "      <td>n Management Information System</td>\n",
       "      <td>Fall 2017</td>\n",
       "      <td>Admit</td>\n",
       "      <td>322</td>\n",
       "      <td>TOEFL</td>\n",
       "      <td>109</td>\n",
       "      <td>90.81%</td>\n",
       "      <td>25 months</td>\n",
       "    </tr>\n",
       "  </tbody>\n",
       "</table>\n",
       "</div>"
      ],
      "text/plain": [
       "                                 university                           course  \\\n",
       "454         Illinois Institute of Technolog  y Management Information System   \n",
       "1544  Texas A&M; University, College Statio  n Management Information System   \n",
       "2390                University of Washingto  n Management Information System   \n",
       "\n",
       "            year      status gre_score eng_test test_score undergrad_score  \\\n",
       "454   Fall 2018      Applied       289    TOEFL         92             66%   \n",
       "1544  Fall 2019   Interested       310    TOEFL        106      7.92 CGPA    \n",
       "2390  Fall 2017        Admit       322    TOEFL        109          90.81%   \n",
       "\n",
       "        work_ex  \n",
       "454   90 months  \n",
       "1544  35 months  \n",
       "2390  25 months  "
      ]
     },
     "execution_count": 11,
     "metadata": {},
     "output_type": "execute_result"
    }
   ],
   "source": [
    "data[data.university.isin(['University of Washingto', 'Texas A&M; University, College Statio', 'Illinois Institute of Technolog'])]"
   ]
  },
  {
   "cell_type": "markdown",
   "metadata": {},
   "source": [
    "I will now be updating those names with the actual University names:"
   ]
  },
  {
   "cell_type": "code",
   "execution_count": 12,
   "metadata": {},
   "outputs": [],
   "source": [
    "data.loc[data.university.isin(['University of Washingto', 'Texas A&M; University, College Statio', 'Illinois Institute of Technolog']), ['university','course']] = [('Illinois Institute of Technology','Management Information System'), ('Texas A&M; University, College Station','Management Information System'), ('University of Washington','Management Information System')]"
   ]
  },
  {
   "cell_type": "code",
   "execution_count": 13,
   "metadata": {},
   "outputs": [
    {
     "data": {
      "text/plain": [
       "array(['Arizona State University', 'Boston University',\n",
       "       'Carnegie Mellon University', 'University of Delaware',\n",
       "       'Drexel University', 'Drexel Universit', 'University of Arizona',\n",
       "       'Illinois Institute of Technology', 'Iowa State University',\n",
       "       'Indiana University Bloomington',\n",
       "       'University of Minnesota, Twin Cities', 'Northeastern University',\n",
       "       'Northwestern University', 'New York University',\n",
       "       'Pennsylvania State University',\n",
       "       'Rochester Institute of Technology',\n",
       "       'Rensselaer Polytechnic Institute',\n",
       "       'Rutgers University-New Brunswick', 'Rutgers University, Newark',\n",
       "       'Santa Clara University', 'Stevens Institute of Technology',\n",
       "       'University at Buffalo SUNY', 'Syracuse University',\n",
       "       'Texas A&M; University, College Station',\n",
       "       'University of California, Irvine', 'University of Cincinnati',\n",
       "       'University of California, Los Angeles', 'University of Florida',\n",
       "       'University of Illinois at Chicago', 'University of Iowa',\n",
       "       'University of Maryland, College Park',\n",
       "       'University of North Carolina at Charlotte',\n",
       "       'University of Pennsylvania', 'University of Texas at Dallas',\n",
       "       'University of Texas at Arlington',\n",
       "       'University of Texas at Austin', 'University of Utah',\n",
       "       'University of Washington', 'Worcester Polytechnic Institute', nan],\n",
       "      dtype=object)"
      ]
     },
     "execution_count": 13,
     "metadata": {},
     "output_type": "execute_result"
    }
   ],
   "source": [
    "data['university'].unique()"
   ]
  },
  {
   "cell_type": "markdown",
   "metadata": {},
   "source": [
    "<h5>3. Course:</h5>\n",
    "Now, I'll start by going through unique values in the \"Course\" column:"
   ]
  },
  {
   "cell_type": "code",
   "execution_count": 14,
   "metadata": {},
   "outputs": [
    {
     "data": {
      "text/plain": [
       "array(['Management Information System',\n",
       "       'Information Management and Systems', 'Information Systems',\n",
       "       'y Information Systems', 'Information Science',\n",
       "       'ICS with concentration in Informatics', 'Informatics',\n",
       "       'Information Technology and Management', 'Information Management',\n",
       "       nan], dtype=object)"
      ]
     },
     "execution_count": 14,
     "metadata": {},
     "output_type": "execute_result"
    }
   ],
   "source": [
    "data['course'].unique()"
   ]
  },
  {
   "cell_type": "markdown",
   "metadata": {},
   "source": [
    "Well, each college has a different name for similar course. And since the data has been extracted entirely for the MIS course, I believe that the \"Course\" column doesn't really serve the purpose. So, I'll be removing it from the dataframe:"
   ]
  },
  {
   "cell_type": "code",
   "execution_count": 15,
   "metadata": {},
   "outputs": [],
   "source": [
    "data = data.drop(columns='course')"
   ]
  },
  {
   "cell_type": "markdown",
   "metadata": {},
   "source": [
    "<h5>4. Year:</h5>\n",
    "Just like \"Course\" column, the \"Year\" column doesn't serve the purpose of predicting the status of one's application as most universities usually have a standard which doesn't change based on the year of application. Hence, I'll be removing that column from the dataframe:"
   ]
  },
  {
   "cell_type": "code",
   "execution_count": 16,
   "metadata": {},
   "outputs": [],
   "source": [
    "data = data.drop(columns='year')"
   ]
  },
  {
   "cell_type": "markdown",
   "metadata": {},
   "source": [
    "<h3>Null Value Check</h3>\n",
    "Let's check for Null Values across the dataframe:"
   ]
  },
  {
   "cell_type": "code",
   "execution_count": 17,
   "metadata": {},
   "outputs": [
    {
     "data": {
      "text/plain": [
       "<matplotlib.axes._subplots.AxesSubplot at 0x1d289afc1c8>"
      ]
     },
     "execution_count": 17,
     "metadata": {},
     "output_type": "execute_result"
    },
    {
     "data": {
      "image/png": "[encoded data removed]",
      "text/plain": [
       "<Figure size 432x288 with 2 Axes>"
      ]
     },
     "metadata": {
      "needs_background": "light"
     },
     "output_type": "display_data"
    }
   ],
   "source": [
    "sns.heatmap(data.isna())"
   ]
  },
  {
   "cell_type": "code",
   "execution_count": 18,
   "metadata": {},
   "outputs": [
    {
     "name": "stdout",
     "output_type": "stream",
     "text": [
      "Percent of empty gre_scores = 17.15513872606487 %\n",
      "Percent of empty test_score = 21.805392731535754 %\n",
      "Percent of empty work_ex = 20.711215318483784 %\n"
     ]
    }
   ],
   "source": [
    "print(\"Percent of empty gre_scores = {} %\".format(len(data[data.gre_score.isna()][\"gre_score\"])/len(data[\"gre_score\"])*100))\n",
    "print(\"Percent of empty test_score = {} %\".format(len(data[data.test_score.isna()][\"test_score\"])/len(data[\"test_score\"])*100))\n",
    "print(\"Percent of empty work_ex = {} %\".format(len(data[data.work_ex.isna()][\"work_ex\"])/len(data[\"work_ex\"])*100))"
   ]
  },
  {
   "cell_type": "code",
   "execution_count": 19,
   "metadata": {},
   "outputs": [
    {
     "data": {
      "text/plain": [
       "gre_score     439\n",
       "test_score    439\n",
       "dtype: int64"
      ]
     },
     "execution_count": 19,
     "metadata": {},
     "output_type": "execute_result"
    }
   ],
   "source": [
    "data[data[\"gre_score\"].isna()][[\"gre_score\",\"test_score\"]].isnull().count()"
   ]
  },
  {
   "cell_type": "markdown",
   "metadata": {},
   "source": [
    "For our calculations, GRE Score and TOEFL Score are very important, and their absence causes those rows to be irrelevant. Hence, I'll be removing these rows from the dataframe:"
   ]
  },
  {
   "cell_type": "code",
   "execution_count": 20,
   "metadata": {},
   "outputs": [
    {
     "data": {
      "text/html": [
       "<div>\n",
       "<style scoped>\n",
       "    .dataframe tbody tr th:only-of-type {\n",
       "        vertical-align: middle;\n",
       "    }\n",
       "\n",
       "    .dataframe tbody tr th {\n",
       "        vertical-align: top;\n",
       "    }\n",
       "\n",
       "    .dataframe thead th {\n",
       "        text-align: right;\n",
       "    }\n",
       "</style>\n",
       "<table border=\"1\" class=\"dataframe\">\n",
       "  <thead>\n",
       "    <tr style=\"text-align: right;\">\n",
       "      <th></th>\n",
       "      <th>university</th>\n",
       "      <th>status</th>\n",
       "      <th>gre_score</th>\n",
       "      <th>eng_test</th>\n",
       "      <th>test_score</th>\n",
       "      <th>undergrad_score</th>\n",
       "      <th>work_ex</th>\n",
       "    </tr>\n",
       "  </thead>\n",
       "  <tbody>\n",
       "    <tr>\n",
       "      <td>0</td>\n",
       "      <td>Arizona State University</td>\n",
       "      <td>Applied</td>\n",
       "      <td>313</td>\n",
       "      <td>TOEFL</td>\n",
       "      <td>107</td>\n",
       "      <td>62%</td>\n",
       "      <td>6 months</td>\n",
       "    </tr>\n",
       "    <tr>\n",
       "      <td>1</td>\n",
       "      <td>Arizona State University</td>\n",
       "      <td>Applied</td>\n",
       "      <td>314</td>\n",
       "      <td>TOEFL</td>\n",
       "      <td>106</td>\n",
       "      <td>7.63 CGPA</td>\n",
       "      <td>6 months</td>\n",
       "    </tr>\n",
       "    <tr>\n",
       "      <td>3</td>\n",
       "      <td>Arizona State University</td>\n",
       "      <td>Applied</td>\n",
       "      <td>307</td>\n",
       "      <td>TOEFL</td>\n",
       "      <td>109</td>\n",
       "      <td>62%</td>\n",
       "      <td>1 month</td>\n",
       "    </tr>\n",
       "    <tr>\n",
       "      <td>4</td>\n",
       "      <td>Arizona State University</td>\n",
       "      <td>Applied</td>\n",
       "      <td>290</td>\n",
       "      <td>IELTS</td>\n",
       "      <td>7.5</td>\n",
       "      <td>7 CGPA</td>\n",
       "      <td>48 months</td>\n",
       "    </tr>\n",
       "    <tr>\n",
       "      <td>5</td>\n",
       "      <td>Arizona State University</td>\n",
       "      <td>Applied</td>\n",
       "      <td>306</td>\n",
       "      <td>TOEFL</td>\n",
       "      <td>90</td>\n",
       "      <td>8.2 CGPA</td>\n",
       "      <td>24 months</td>\n",
       "    </tr>\n",
       "  </tbody>\n",
       "</table>\n",
       "</div>"
      ],
      "text/plain": [
       "                 university   status gre_score eng_test test_score  \\\n",
       "0  Arizona State University  Applied       313    TOEFL        107   \n",
       "1  Arizona State University  Applied       314    TOEFL        106   \n",
       "3  Arizona State University  Applied       307    TOEFL        109   \n",
       "4  Arizona State University  Applied       290    IELTS        7.5   \n",
       "5  Arizona State University  Applied       306    TOEFL         90   \n",
       "\n",
       "  undergrad_score    work_ex  \n",
       "0             62%   6 months  \n",
       "1      7.63 CGPA    6 months  \n",
       "3             62%    1 month  \n",
       "4         7 CGPA   48 months  \n",
       "5       8.2 CGPA   24 months  "
      ]
     },
     "execution_count": 20,
     "metadata": {},
     "output_type": "execute_result"
    }
   ],
   "source": [
    "data = data.dropna()\n",
    "data.head()"
   ]
  },
  {
   "cell_type": "code",
   "execution_count": 21,
   "metadata": {},
   "outputs": [
    {
     "data": {
      "text/plain": [
       "<matplotlib.axes._subplots.AxesSubplot at 0x1d289ef22c8>"
      ]
     },
     "execution_count": 21,
     "metadata": {},
     "output_type": "execute_result"
    },
    {
     "data": {
      "image/png": "[encoded data removed]",
      "text/plain": [
       "<Figure size 432x288 with 2 Axes>"
      ]
     },
     "metadata": {
      "needs_background": "light"
     },
     "output_type": "display_data"
    }
   ],
   "source": [
    "sns.heatmap(data.isna())"
   ]
  },
  {
   "cell_type": "markdown",
   "metadata": {},
   "source": [
    "<h3>Data Types</h3>"
   ]
  },
  {
   "cell_type": "code",
   "execution_count": 22,
   "metadata": {},
   "outputs": [
    {
     "data": {
      "text/html": [
       "<div>\n",
       "<style scoped>\n",
       "    .dataframe tbody tr th:only-of-type {\n",
       "        vertical-align: middle;\n",
       "    }\n",
       "\n",
       "    .dataframe tbody tr th {\n",
       "        vertical-align: top;\n",
       "    }\n",
       "\n",
       "    .dataframe thead th {\n",
       "        text-align: right;\n",
       "    }\n",
       "</style>\n",
       "<table border=\"1\" class=\"dataframe\">\n",
       "  <thead>\n",
       "    <tr style=\"text-align: right;\">\n",
       "      <th></th>\n",
       "      <th>university</th>\n",
       "      <th>status</th>\n",
       "      <th>gre_score</th>\n",
       "      <th>eng_test</th>\n",
       "      <th>test_score</th>\n",
       "      <th>undergrad_score</th>\n",
       "      <th>work_ex</th>\n",
       "    </tr>\n",
       "  </thead>\n",
       "  <tbody>\n",
       "    <tr>\n",
       "      <td>0</td>\n",
       "      <td>Arizona State University</td>\n",
       "      <td>Applied</td>\n",
       "      <td>313</td>\n",
       "      <td>TOEFL</td>\n",
       "      <td>107</td>\n",
       "      <td>62%</td>\n",
       "      <td>6 months</td>\n",
       "    </tr>\n",
       "    <tr>\n",
       "      <td>1</td>\n",
       "      <td>Arizona State University</td>\n",
       "      <td>Applied</td>\n",
       "      <td>314</td>\n",
       "      <td>TOEFL</td>\n",
       "      <td>106</td>\n",
       "      <td>7.63 CGPA</td>\n",
       "      <td>6 months</td>\n",
       "    </tr>\n",
       "    <tr>\n",
       "      <td>3</td>\n",
       "      <td>Arizona State University</td>\n",
       "      <td>Applied</td>\n",
       "      <td>307</td>\n",
       "      <td>TOEFL</td>\n",
       "      <td>109</td>\n",
       "      <td>62%</td>\n",
       "      <td>1 month</td>\n",
       "    </tr>\n",
       "    <tr>\n",
       "      <td>4</td>\n",
       "      <td>Arizona State University</td>\n",
       "      <td>Applied</td>\n",
       "      <td>290</td>\n",
       "      <td>IELTS</td>\n",
       "      <td>7.5</td>\n",
       "      <td>7 CGPA</td>\n",
       "      <td>48 months</td>\n",
       "    </tr>\n",
       "    <tr>\n",
       "      <td>5</td>\n",
       "      <td>Arizona State University</td>\n",
       "      <td>Applied</td>\n",
       "      <td>306</td>\n",
       "      <td>TOEFL</td>\n",
       "      <td>90</td>\n",
       "      <td>8.2 CGPA</td>\n",
       "      <td>24 months</td>\n",
       "    </tr>\n",
       "  </tbody>\n",
       "</table>\n",
       "</div>"
      ],
      "text/plain": [
       "                 university   status gre_score eng_test test_score  \\\n",
       "0  Arizona State University  Applied       313    TOEFL        107   \n",
       "1  Arizona State University  Applied       314    TOEFL        106   \n",
       "3  Arizona State University  Applied       307    TOEFL        109   \n",
       "4  Arizona State University  Applied       290    IELTS        7.5   \n",
       "5  Arizona State University  Applied       306    TOEFL         90   \n",
       "\n",
       "  undergrad_score    work_ex  \n",
       "0             62%   6 months  \n",
       "1      7.63 CGPA    6 months  \n",
       "3             62%    1 month  \n",
       "4         7 CGPA   48 months  \n",
       "5       8.2 CGPA   24 months  "
      ]
     },
     "execution_count": 22,
     "metadata": {},
     "output_type": "execute_result"
    }
   ],
   "source": [
    "data.head()"
   ]
  },
  {
   "cell_type": "code",
   "execution_count": 23,
   "metadata": {},
   "outputs": [
    {
     "data": {
      "text/plain": [
       "university         object\n",
       "status             object\n",
       "gre_score          object\n",
       "eng_test           object\n",
       "test_score         object\n",
       "undergrad_score    object\n",
       "work_ex            object\n",
       "dtype: object"
      ]
     },
     "execution_count": 23,
     "metadata": {},
     "output_type": "execute_result"
    }
   ],
   "source": [
    "data.dtypes"
   ]
  },
  {
   "cell_type": "markdown",
   "metadata": {},
   "source": [
    "Takeaways:\n",
    "1. \"GRE Score\", \"Test Score\", \"Undergrad Score\", and \"Work Ex\" will have to be converted to a numerical data type.\n",
    "2. The \"Undergrad Score\" and \"Work Ex\" columns have strings \"CGPA\", \"%\", and \"months\" which can be removed from the dataframe for ease of calculations."
   ]
  },
  {
   "cell_type": "code",
   "execution_count": 24,
   "metadata": {},
   "outputs": [],
   "source": [
    "data[['gre_score', 'test_score']] = data[['gre_score', 'test_score']].apply(pd.to_numeric)"
   ]
  },
  {
   "cell_type": "code",
   "execution_count": 25,
   "metadata": {},
   "outputs": [],
   "source": [
    "data.work_ex = data.work_ex.str.strip(to_strip='months ').apply(pd.to_numeric)"
   ]
  },
  {
   "cell_type": "markdown",
   "metadata": {},
   "source": [
    "Before stripping the \"CGPA\" and \"%\" from \"Undergrad Score\" column, I will convert the CGPA to Percentage by multiplying CGPA with 9.5 in order to normalize the column."
   ]
  },
  {
   "cell_type": "code",
   "execution_count": 26,
   "metadata": {},
   "outputs": [],
   "source": [
    "for i in data.loc[:, \"undergrad_score\"].index:\n",
    "    if \"CGPA\" in data.loc[i, \"undergrad_score\"]:\n",
    "        data.loc[i, \"undergrad_score\"] = pd.to_numeric(data.loc[i, \"undergrad_score\"].strip(\"CGPA \"))*9.5\n",
    "    elif \"%\" in data.loc[i, \"undergrad_score\"]:        \n",
    "        data.loc[i, \"undergrad_score\"] = data.loc[i, \"undergrad_score\"].strip(\"%\")\n",
    "data.undergrad_score = pd.to_numeric(data.undergrad_score)"
   ]
  },
  {
   "cell_type": "markdown",
   "metadata": {},
   "source": [
    "Similarly, in order to normalize the IELTS and TOEFL scores in the \"Test Score\" column of the dataframe, I will refer to the official score comparision table present [here](https://www.ets.org/s/toefl/pdf/linking_toefl_ibt_scores_to_ielts_scores.pdf)"
   ]
  },
  {
   "cell_type": "code",
   "execution_count": 27,
   "metadata": {},
   "outputs": [],
   "source": [
    "data.loc[data[\"eng_test\"]==\"IELTS\", \"test_score\"] = data.loc[data[\"eng_test\"]==\"IELTS\", \"test_score\"].replace({9.0:120, 8.5:117, 8.0:114, 7.5:109, 7.0:101, 6.5:93, 6.0:78, 5.5:59, 5.0:45, 4.5:34, 4.0:31})\n",
    "data = data.drop(columns=\"eng_test\")"
   ]
  },
  {
   "cell_type": "code",
   "execution_count": 28,
   "metadata": {},
   "outputs": [
    {
     "data": {
      "text/html": [
       "<div>\n",
       "<style scoped>\n",
       "    .dataframe tbody tr th:only-of-type {\n",
       "        vertical-align: middle;\n",
       "    }\n",
       "\n",
       "    .dataframe tbody tr th {\n",
       "        vertical-align: top;\n",
       "    }\n",
       "\n",
       "    .dataframe thead th {\n",
       "        text-align: right;\n",
       "    }\n",
       "</style>\n",
       "<table border=\"1\" class=\"dataframe\">\n",
       "  <thead>\n",
       "    <tr style=\"text-align: right;\">\n",
       "      <th></th>\n",
       "      <th>university</th>\n",
       "      <th>status</th>\n",
       "      <th>gre_score</th>\n",
       "      <th>test_score</th>\n",
       "      <th>undergrad_score</th>\n",
       "      <th>work_ex</th>\n",
       "    </tr>\n",
       "  </thead>\n",
       "  <tbody>\n",
       "    <tr>\n",
       "      <td>0</td>\n",
       "      <td>Arizona State University</td>\n",
       "      <td>Applied</td>\n",
       "      <td>313</td>\n",
       "      <td>107.0</td>\n",
       "      <td>62.000</td>\n",
       "      <td>6</td>\n",
       "    </tr>\n",
       "    <tr>\n",
       "      <td>1</td>\n",
       "      <td>Arizona State University</td>\n",
       "      <td>Applied</td>\n",
       "      <td>314</td>\n",
       "      <td>106.0</td>\n",
       "      <td>72.485</td>\n",
       "      <td>6</td>\n",
       "    </tr>\n",
       "    <tr>\n",
       "      <td>3</td>\n",
       "      <td>Arizona State University</td>\n",
       "      <td>Applied</td>\n",
       "      <td>307</td>\n",
       "      <td>109.0</td>\n",
       "      <td>62.000</td>\n",
       "      <td>1</td>\n",
       "    </tr>\n",
       "    <tr>\n",
       "      <td>4</td>\n",
       "      <td>Arizona State University</td>\n",
       "      <td>Applied</td>\n",
       "      <td>290</td>\n",
       "      <td>109.0</td>\n",
       "      <td>66.500</td>\n",
       "      <td>48</td>\n",
       "    </tr>\n",
       "    <tr>\n",
       "      <td>5</td>\n",
       "      <td>Arizona State University</td>\n",
       "      <td>Applied</td>\n",
       "      <td>306</td>\n",
       "      <td>90.0</td>\n",
       "      <td>77.900</td>\n",
       "      <td>24</td>\n",
       "    </tr>\n",
       "  </tbody>\n",
       "</table>\n",
       "</div>"
      ],
      "text/plain": [
       "                 university   status  gre_score  test_score  undergrad_score  \\\n",
       "0  Arizona State University  Applied        313       107.0           62.000   \n",
       "1  Arizona State University  Applied        314       106.0           72.485   \n",
       "3  Arizona State University  Applied        307       109.0           62.000   \n",
       "4  Arizona State University  Applied        290       109.0           66.500   \n",
       "5  Arizona State University  Applied        306        90.0           77.900   \n",
       "\n",
       "   work_ex  \n",
       "0        6  \n",
       "1        6  \n",
       "3        1  \n",
       "4       48  \n",
       "5       24  "
      ]
     },
     "execution_count": 28,
     "metadata": {},
     "output_type": "execute_result"
    }
   ],
   "source": [
    "data.head()"
   ]
  },
  {
   "cell_type": "markdown",
   "metadata": {},
   "source": [
    "Finally, let's review the data types and describe the dataframe columns:"
   ]
  },
  {
   "cell_type": "code",
   "execution_count": 29,
   "metadata": {},
   "outputs": [
    {
     "data": {
      "text/plain": [
       "university          object\n",
       "status              object\n",
       "gre_score            int64\n",
       "test_score         float64\n",
       "undergrad_score    float64\n",
       "work_ex              int64\n",
       "dtype: object"
      ]
     },
     "execution_count": 29,
     "metadata": {},
     "output_type": "execute_result"
    }
   ],
   "source": [
    "data.dtypes"
   ]
  },
  {
   "cell_type": "code",
   "execution_count": 30,
   "metadata": {},
   "outputs": [
    {
     "data": {
      "text/html": [
       "<div>\n",
       "<style scoped>\n",
       "    .dataframe tbody tr th:only-of-type {\n",
       "        vertical-align: middle;\n",
       "    }\n",
       "\n",
       "    .dataframe tbody tr th {\n",
       "        vertical-align: top;\n",
       "    }\n",
       "\n",
       "    .dataframe thead th {\n",
       "        text-align: right;\n",
       "    }\n",
       "</style>\n",
       "<table border=\"1\" class=\"dataframe\">\n",
       "  <thead>\n",
       "    <tr style=\"text-align: right;\">\n",
       "      <th></th>\n",
       "      <th>gre_score</th>\n",
       "      <th>test_score</th>\n",
       "      <th>undergrad_score</th>\n",
       "      <th>work_ex</th>\n",
       "    </tr>\n",
       "  </thead>\n",
       "  <tbody>\n",
       "    <tr>\n",
       "      <td>count</td>\n",
       "      <td>1621.000000</td>\n",
       "      <td>1621.000000</td>\n",
       "      <td>1621.000000</td>\n",
       "      <td>1621.000000</td>\n",
       "    </tr>\n",
       "    <tr>\n",
       "      <td>mean</td>\n",
       "      <td>308.858112</td>\n",
       "      <td>94.579889</td>\n",
       "      <td>70.273521</td>\n",
       "      <td>26.151141</td>\n",
       "    </tr>\n",
       "    <tr>\n",
       "      <td>std</td>\n",
       "      <td>9.428855</td>\n",
       "      <td>25.009293</td>\n",
       "      <td>9.149272</td>\n",
       "      <td>17.665443</td>\n",
       "    </tr>\n",
       "    <tr>\n",
       "      <td>min</td>\n",
       "      <td>278.000000</td>\n",
       "      <td>0.000000</td>\n",
       "      <td>29.450000</td>\n",
       "      <td>-1.000000</td>\n",
       "    </tr>\n",
       "    <tr>\n",
       "      <td>25%</td>\n",
       "      <td>302.000000</td>\n",
       "      <td>93.000000</td>\n",
       "      <td>64.000000</td>\n",
       "      <td>13.000000</td>\n",
       "    </tr>\n",
       "    <tr>\n",
       "      <td>50%</td>\n",
       "      <td>309.000000</td>\n",
       "      <td>101.000000</td>\n",
       "      <td>70.000000</td>\n",
       "      <td>24.000000</td>\n",
       "    </tr>\n",
       "    <tr>\n",
       "      <td>75%</td>\n",
       "      <td>316.000000</td>\n",
       "      <td>107.000000</td>\n",
       "      <td>76.950000</td>\n",
       "      <td>36.000000</td>\n",
       "    </tr>\n",
       "    <tr>\n",
       "      <td>max</td>\n",
       "      <td>336.000000</td>\n",
       "      <td>118.000000</td>\n",
       "      <td>92.150000</td>\n",
       "      <td>144.000000</td>\n",
       "    </tr>\n",
       "  </tbody>\n",
       "</table>\n",
       "</div>"
      ],
      "text/plain": [
       "         gre_score   test_score  undergrad_score      work_ex\n",
       "count  1621.000000  1621.000000      1621.000000  1621.000000\n",
       "mean    308.858112    94.579889        70.273521    26.151141\n",
       "std       9.428855    25.009293         9.149272    17.665443\n",
       "min     278.000000     0.000000        29.450000    -1.000000\n",
       "25%     302.000000    93.000000        64.000000    13.000000\n",
       "50%     309.000000   101.000000        70.000000    24.000000\n",
       "75%     316.000000   107.000000        76.950000    36.000000\n",
       "max     336.000000   118.000000        92.150000   144.000000"
      ]
     },
     "execution_count": 30,
     "metadata": {},
     "output_type": "execute_result"
    }
   ],
   "source": [
    "data.describe()"
   ]
  },
  {
   "cell_type": "markdown",
   "metadata": {},
   "source": [
    "Takeaways:\n",
    "1. For our calculations & analysis, the categorical column \"Status\" can be given numerical values.\n",
    "2. In the \"Work Ex\" column, the lowest value is -1 which is not possible. For those rows, let's provide a value of 0.\n",
    "3. \"Work Ex\" in months can be converted to \"Work Ex\" in years.\n",
    "4. \"Test Score\" cannot be 0. Probably, the person did not take the English Proficiency Test and updated their score as 0 in their respective profiles. If there is a correlation between any value in the dataframe with \"Test Score\", we can predict it using Linear Regression Technique. I will review this once I start Exploratory Data Analysis."
   ]
  },
  {
   "cell_type": "code",
   "execution_count": 31,
   "metadata": {},
   "outputs": [
    {
     "data": {
      "text/plain": [
       "array(['Applied', 'Admit', 'Reject', 'Interested'], dtype=object)"
      ]
     },
     "execution_count": 31,
     "metadata": {},
     "output_type": "execute_result"
    }
   ],
   "source": [
    "data[\"status\"].unique()"
   ]
  },
  {
   "cell_type": "code",
   "execution_count": 32,
   "metadata": {},
   "outputs": [],
   "source": [
    "data[\"status\"] = pd.to_numeric(data[\"status\"].replace({\"Reject\": \"0\", \"Admit\": \"1\", \"Applied\": \"2\", \"Interested\": \"3\"}))"
   ]
  },
  {
   "cell_type": "code",
   "execution_count": 33,
   "metadata": {},
   "outputs": [],
   "source": [
    "data.loc[data['work_ex']<0, 'work_ex'] = 0"
   ]
  },
  {
   "cell_type": "code",
   "execution_count": 34,
   "metadata": {},
   "outputs": [
    {
     "data": {
      "text/plain": [
       "Series([], Name: work_ex, dtype: int64)"
      ]
     },
     "execution_count": 34,
     "metadata": {},
     "output_type": "execute_result"
    }
   ],
   "source": [
    "data.loc[data['work_ex']<0, 'work_ex']"
   ]
  },
  {
   "cell_type": "code",
   "execution_count": 35,
   "metadata": {},
   "outputs": [],
   "source": [
    "binInterval = [0, 12, 24, 36, 48, 60, 72, 84, 96, 108, 120, 132, 144]\n",
    "binLabels   = [0, 1, 2, 3, 4, 5, 6, 7, 8, 9, 10, 11]\n",
    "data['work_ex_yrs'] = pd.to_numeric(pd.cut(data['work_ex'], bins = binInterval, labels=binLabels, include_lowest = True))"
   ]
  },
  {
   "cell_type": "code",
   "execution_count": 36,
   "metadata": {},
   "outputs": [
    {
     "data": {
      "text/html": [
       "<div>\n",
       "<style scoped>\n",
       "    .dataframe tbody tr th:only-of-type {\n",
       "        vertical-align: middle;\n",
       "    }\n",
       "\n",
       "    .dataframe tbody tr th {\n",
       "        vertical-align: top;\n",
       "    }\n",
       "\n",
       "    .dataframe thead th {\n",
       "        text-align: right;\n",
       "    }\n",
       "</style>\n",
       "<table border=\"1\" class=\"dataframe\">\n",
       "  <thead>\n",
       "    <tr style=\"text-align: right;\">\n",
       "      <th></th>\n",
       "      <th>university</th>\n",
       "      <th>status</th>\n",
       "      <th>gre_score</th>\n",
       "      <th>test_score</th>\n",
       "      <th>undergrad_score</th>\n",
       "      <th>work_ex_yrs</th>\n",
       "    </tr>\n",
       "  </thead>\n",
       "  <tbody>\n",
       "    <tr>\n",
       "      <td>0</td>\n",
       "      <td>Arizona State University</td>\n",
       "      <td>2</td>\n",
       "      <td>313</td>\n",
       "      <td>107.0</td>\n",
       "      <td>62.000</td>\n",
       "      <td>0</td>\n",
       "    </tr>\n",
       "    <tr>\n",
       "      <td>1</td>\n",
       "      <td>Arizona State University</td>\n",
       "      <td>2</td>\n",
       "      <td>314</td>\n",
       "      <td>106.0</td>\n",
       "      <td>72.485</td>\n",
       "      <td>0</td>\n",
       "    </tr>\n",
       "    <tr>\n",
       "      <td>2</td>\n",
       "      <td>Arizona State University</td>\n",
       "      <td>2</td>\n",
       "      <td>307</td>\n",
       "      <td>109.0</td>\n",
       "      <td>62.000</td>\n",
       "      <td>0</td>\n",
       "    </tr>\n",
       "    <tr>\n",
       "      <td>3</td>\n",
       "      <td>Arizona State University</td>\n",
       "      <td>2</td>\n",
       "      <td>290</td>\n",
       "      <td>109.0</td>\n",
       "      <td>66.500</td>\n",
       "      <td>3</td>\n",
       "    </tr>\n",
       "    <tr>\n",
       "      <td>4</td>\n",
       "      <td>Arizona State University</td>\n",
       "      <td>2</td>\n",
       "      <td>306</td>\n",
       "      <td>90.0</td>\n",
       "      <td>77.900</td>\n",
       "      <td>1</td>\n",
       "    </tr>\n",
       "  </tbody>\n",
       "</table>\n",
       "</div>"
      ],
      "text/plain": [
       "                 university  status  gre_score  test_score  undergrad_score  \\\n",
       "0  Arizona State University       2        313       107.0           62.000   \n",
       "1  Arizona State University       2        314       106.0           72.485   \n",
       "2  Arizona State University       2        307       109.0           62.000   \n",
       "3  Arizona State University       2        290       109.0           66.500   \n",
       "4  Arizona State University       2        306        90.0           77.900   \n",
       "\n",
       "   work_ex_yrs  \n",
       "0            0  \n",
       "1            0  \n",
       "2            0  \n",
       "3            3  \n",
       "4            1  "
      ]
     },
     "execution_count": 36,
     "metadata": {},
     "output_type": "execute_result"
    }
   ],
   "source": [
    "data = data.drop(columns='work_ex').reset_index(drop=True)\n",
    "data.head()"
   ]
  },
  {
   "cell_type": "markdown",
   "metadata": {},
   "source": [
    "Now, we can't perform our analysis on universities which don't have any information to provide, i.e., those universities whose application status is only in \"Interested\" or \"Applied\". So, I'll be finding those and removing them from the list:"
   ]
  },
  {
   "cell_type": "code",
   "execution_count": 37,
   "metadata": {},
   "outputs": [
    {
     "data": {
      "text/plain": [
       "university\n",
       "Arizona State University                     [2, 1, 0, 3]\n",
       "Boston University                               [2, 1, 3]\n",
       "Carnegie Mellon University                   [2, 1, 0, 3]\n",
       "Drexel University                            [2, 1, 0, 3]\n",
       "Illinois Institute of Technology             [2, 1, 0, 3]\n",
       "Indiana University Bloomington               [2, 1, 0, 3]\n",
       "Iowa State University                        [2, 1, 0, 3]\n",
       "New York University                          [2, 1, 0, 3]\n",
       "Northeastern University                      [2, 1, 0, 3]\n",
       "Northwestern University                         [2, 1, 3]\n",
       "Pennsylvania State University                [2, 1, 0, 3]\n",
       "Rensselaer Polytechnic Institute             [2, 1, 0, 3]\n",
       "Rochester Institute of Technology            [2, 1, 0, 3]\n",
       "Rutgers University, Newark                   [2, 1, 0, 3]\n",
       "Rutgers University-New Brunswick             [2, 1, 0, 3]\n",
       "Santa Clara University                       [2, 1, 0, 3]\n",
       "Stevens Institute of Technology              [2, 1, 0, 3]\n",
       "Syracuse University                          [2, 1, 0, 3]\n",
       "Texas A&M; University, College Station       [2, 1, 0, 3]\n",
       "University at Buffalo SUNY                   [2, 1, 0, 3]\n",
       "University of Arizona                        [2, 1, 0, 3]\n",
       "University of California, Irvine             [2, 1, 0, 3]\n",
       "University of California, Los Angeles           [2, 0, 3]\n",
       "University of Cincinnati                     [2, 1, 0, 3]\n",
       "University of Delaware                       [2, 1, 0, 3]\n",
       "University of Florida                        [2, 1, 0, 3]\n",
       "University of Illinois at Chicago            [2, 1, 0, 3]\n",
       "University of Iowa                                 [2, 3]\n",
       "University of Maryland, College Park         [2, 1, 0, 3]\n",
       "University of Minnesota, Twin Cities         [2, 1, 0, 3]\n",
       "University of North Carolina at Charlotte    [2, 1, 0, 3]\n",
       "University of Pennsylvania                      [2, 1, 3]\n",
       "University of Texas at Arlington             [2, 1, 0, 3]\n",
       "University of Texas at Austin                [2, 1, 0, 3]\n",
       "University of Texas at Dallas                [2, 1, 0, 3]\n",
       "University of Utah                           [2, 1, 0, 3]\n",
       "University of Washington                     [2, 1, 0, 3]\n",
       "Worcester Polytechnic Institute              [2, 1, 0, 3]\n",
       "Name: status, dtype: object"
      ]
     },
     "execution_count": 37,
     "metadata": {},
     "output_type": "execute_result"
    }
   ],
   "source": [
    "data.groupby('university')[\"status\"].unique()"
   ]
  },
  {
   "cell_type": "markdown",
   "metadata": {},
   "source": [
    "Takeaways:\n",
    "\n",
    "1. University of Iowa data is not useful as it does not provide insights into the previous Admits or Rejects. Hence, I'll be removing that.\n",
    "2. University of California, Los Angeles data only shows the rejections and not acceptances. This could mean that nobody who applied got accepted, or this data is not reliable as not many people apply to this university for MS-MIS course. Hence, I'll be removing that too."
   ]
  },
  {
   "cell_type": "code",
   "execution_count": 38,
   "metadata": {},
   "outputs": [],
   "source": [
    "data = data[data['university']!='University of Iowa']"
   ]
  },
  {
   "cell_type": "code",
   "execution_count": 39,
   "metadata": {},
   "outputs": [],
   "source": [
    "data = data[data['university']!='University of California, Los Angeles']"
   ]
  },
  {
   "cell_type": "code",
   "execution_count": 40,
   "metadata": {},
   "outputs": [],
   "source": [
    "data = data.reset_index(drop=True)"
   ]
  },
  {
   "cell_type": "markdown",
   "metadata": {},
   "source": [
    "<h3>Exploratory Data Analysis</h3>\n",
    "\n",
    "In order to understand the relationship between the multiple columns or as I should start calling them: variables, I will be performing Exploratory Data Analysis:"
   ]
  },
  {
   "cell_type": "code",
   "execution_count": 41,
   "metadata": {},
   "outputs": [],
   "source": [
    "#Defining Empirical Cumulative Distribution Function\n",
    "def ecdf(a):\n",
    "    x = np.sort(a)\n",
    "    y = np.arange(1, len(x)+1)/len(x)\n",
    "    return x,y"
   ]
  },
  {
   "cell_type": "markdown",
   "metadata": {},
   "source": [
    "<h5>1. English Proficiency Test Score Distribution:</h5>"
   ]
  },
  {
   "cell_type": "code",
   "execution_count": 42,
   "metadata": {},
   "outputs": [
    {
     "data": {
      "text/plain": [
       "Text(0.5, 1.0, 'English Proficiency Test Score Distribution')"
      ]
     },
     "execution_count": 42,
     "metadata": {},
     "output_type": "execute_result"
    },
    {
     "data": {
      "image/png": "[encoded data removed]",
      "text/plain": [
       "<Figure size 432x288 with 1 Axes>"
      ]
     },
     "metadata": {
      "needs_background": "light"
     },
     "output_type": "display_data"
    }
   ],
   "source": [
    "sns.distplot(data[data['status']==0]['test_score'], color = 'r')\n",
    "sns.distplot(data[data['status']==1]['test_score'], color = 'g')\n",
    "plt.legend(['Reject','Admit'])\n",
    "plt.xlabel('Test Score')\n",
    "plt.title('English Proficiency Test Score Distribution')"
   ]
  },
  {
   "cell_type": "markdown",
   "metadata": {},
   "source": [
    "As we saw previously, there are a few scores with a value of zero. Without this test score, we will not be able to correctly predict the decision/status of an application. There are two ways to go forward:\n",
    "1. Find out if \"Test Score\" has correlation with any of the fields and predict it using Linear Regression.\n",
    "2. Delete the rows with \"Test Score\" values of zero."
   ]
  },
  {
   "cell_type": "code",
   "execution_count": 43,
   "metadata": {},
   "outputs": [
    {
     "data": {
      "text/plain": [
       "'Test Scores with a value of zero: '"
      ]
     },
     "metadata": {},
     "output_type": "display_data"
    },
    {
     "data": {
      "text/plain": [
       "93"
      ]
     },
     "metadata": {},
     "output_type": "display_data"
    },
    {
     "data": {
      "text/plain": [
       "<seaborn.axisgrid.FacetGrid at 0x1d28a003ec8>"
      ]
     },
     "execution_count": 43,
     "metadata": {},
     "output_type": "execute_result"
    },
    {
     "data": {
      "image/png": "[encoded data removed]",
      "text/plain": [
       "<Figure size 360x360 with 1 Axes>"
      ]
     },
     "metadata": {},
     "output_type": "display_data"
    }
   ],
   "source": [
    "display('Test Scores with a value of zero: ',data[data['test_score']==0].shape[0])\n",
    "sns.set_style('whitegrid')\n",
    "sns.lmplot(x='gre_score', y='test_score', data=data).set(xlabel=\"GRE Score\", ylabel = \"Test Score\", title = \"GRE Score vs Test Score\")"
   ]
  },
  {
   "cell_type": "markdown",
   "metadata": {},
   "source": [
    "There is a correlation between \"GRE Score\" and \"Test Score\". So, through Linear Regression, I calculated the required values of the Test Scores. However, the predicted values had a very high Mean Squared Error. Therefore, I decided that it would be better to drop the rows with Test Scores of value zero."
   ]
  },
  {
   "cell_type": "code",
   "execution_count": 44,
   "metadata": {},
   "outputs": [],
   "source": [
    "data = data.drop(index = data[data['test_score']==0].index).reset_index(drop=True)"
   ]
  },
  {
   "cell_type": "markdown",
   "metadata": {},
   "source": [
    "On visualizing the plot again, it can be observed that the redundant fields are not present and the graph looks cleaner."
   ]
  },
  {
   "cell_type": "code",
   "execution_count": 45,
   "metadata": {},
   "outputs": [
    {
     "data": {
      "text/plain": [
       "Text(0.5, 1.0, 'English Proficiency Test Score Distribution')"
      ]
     },
     "execution_count": 45,
     "metadata": {},
     "output_type": "execute_result"
    },
    {
     "data": {
      "image/png": "[encoded data removed]",
      "text/plain": [
       "<Figure size 432x288 with 1 Axes>"
      ]
     },
     "metadata": {},
     "output_type": "display_data"
    }
   ],
   "source": [
    "sns.distplot(data[data['status']==0]['test_score'], color = 'r')\n",
    "sns.distplot(data[data['status']==1]['test_score'], color = 'g')\n",
    "plt.legend(['Reject','Admit'])\n",
    "plt.xlabel('Test Score')\n",
    "plt.title('English Proficiency Test Score Distribution')"
   ]
  },
  {
   "cell_type": "markdown",
   "metadata": {},
   "source": [
    "For Test Scores lower than 100, the Admit to Reject ratio is low. Above scores of 100, the ratio increases, i.e., chances of getting an Admit increase."
   ]
  },
  {
   "cell_type": "code",
   "execution_count": 46,
   "metadata": {},
   "outputs": [
    {
     "name": "stdout",
     "output_type": "stream",
     "text": [
      "[ 72.  75.  77. ... 118. 118. 118.] [6.60501982e-04 1.32100396e-03 1.98150594e-03 ... 9.98678996e-01\n",
      " 9.99339498e-01 1.00000000e+00]\n"
     ]
    },
    {
     "data": {
      "image/png": "[encoded data removed]",
      "text/plain": [
       "<Figure size 432x288 with 1 Axes>"
      ]
     },
     "metadata": {},
     "output_type": "display_data"
    }
   ],
   "source": [
    "x_val, y_val = ecdf(data['test_score'])\n",
    "print(x_val, y_val)\n",
    "plt.plot(x_val,y_val,marker='.',linestyle='none')\n",
    "plt.xlabel('Value')\n",
    "plt.ylabel('Empirical Cumulative Distribution Function')\n",
    "plt.margins(0.02)\n",
    "plt.show()"
   ]
  },
  {
   "cell_type": "markdown",
   "metadata": {},
   "source": [
    "<h5>2. GRE Score Distribution:</h5>"
   ]
  },
  {
   "cell_type": "code",
   "execution_count": 47,
   "metadata": {},
   "outputs": [
    {
     "data": {
      "text/plain": [
       "Text(0.5, 1.0, 'GRE Score Distribution')"
      ]
     },
     "execution_count": 47,
     "metadata": {},
     "output_type": "execute_result"
    },
    {
     "data": {
      "image/png": "[encoded data removed]",
      "text/plain": [
       "<Figure size 432x288 with 1 Axes>"
      ]
     },
     "metadata": {},
     "output_type": "display_data"
    }
   ],
   "source": [
    "sns.distplot(data[data['status']==0]['gre_score'], color = 'r')\n",
    "sns.distplot(data[data['status']==1]['gre_score'], color = 'g')\n",
    "plt.legend(['Reject','Admit'])\n",
    "plt.xlabel('GRE Score')\n",
    "plt.title('GRE Score Distribution')"
   ]
  },
  {
   "cell_type": "markdown",
   "metadata": {},
   "source": [
    "For GRE Scores less than 310, the Admit to Reject Ratio is low. This ratio increases as GRE Score increases (above 310)."
   ]
  },
  {
   "cell_type": "code",
   "execution_count": 48,
   "metadata": {},
   "outputs": [
    {
     "name": "stdout",
     "output_type": "stream",
     "text": [
      "[278 281 281 ... 332 334 336] [6.60501982e-04 1.32100396e-03 1.98150594e-03 ... 9.98678996e-01\n",
      " 9.99339498e-01 1.00000000e+00]\n"
     ]
    },
    {
     "data": {
      "image/png": "[encoded data removed]",
      "text/plain": [
       "<Figure size 432x288 with 1 Axes>"
      ]
     },
     "metadata": {},
     "output_type": "display_data"
    }
   ],
   "source": [
    "x_val, y_val = ecdf(data['gre_score'])\n",
    "print(x_val, y_val)\n",
    "plt.plot(x_val,y_val,marker='.',linestyle='none')\n",
    "plt.xlabel('Value')\n",
    "plt.ylabel('Empirical Cumulative Distribution Function %')\n",
    "plt.margins(0.02)\n",
    "plt.show()"
   ]
  },
  {
   "cell_type": "markdown",
   "metadata": {},
   "source": [
    "<h5>3. Work Experience (in Years) Distribution:</h5>"
   ]
  },
  {
   "cell_type": "code",
   "execution_count": 49,
   "metadata": {},
   "outputs": [
    {
     "data": {
      "text/plain": [
       "Text(0.5, 1.0, 'Work Experience (in Years) Distribution')"
      ]
     },
     "execution_count": 49,
     "metadata": {},
     "output_type": "execute_result"
    },
    {
     "data": {
      "image/png": "[encoded data removed]",
      "text/plain": [
       "<Figure size 432x288 with 1 Axes>"
      ]
     },
     "metadata": {},
     "output_type": "display_data"
    }
   ],
   "source": [
    "sns.distplot(data[data['status']==0]['work_ex_yrs'], color = 'r')\n",
    "sns.distplot(data[data['status']==1]['work_ex_yrs'], color = 'g')\n",
    "plt.legend(['Reject','Admit'])\n",
    "plt.xlabel('Work Experience (in Years)')\n",
    "plt.title('Work Experience (in Years) Distribution')"
   ]
  },
  {
   "cell_type": "markdown",
   "metadata": {},
   "source": [
    "As the work experience of the candidate increases, the Admit to Reject ratio also increases, i.e., chances of getting an Admit also increases."
   ]
  },
  {
   "cell_type": "code",
   "execution_count": 50,
   "metadata": {},
   "outputs": [
    {
     "name": "stdout",
     "output_type": "stream",
     "text": [
      "[0 0 0 ... 7 7 9] [6.60501982e-04 1.32100396e-03 1.98150594e-03 ... 9.98678996e-01\n",
      " 9.99339498e-01 1.00000000e+00]\n"
     ]
    },
    {
     "data": {
      "image/png": "[encoded data removed]",
      "text/plain": [
       "<Figure size 432x288 with 1 Axes>"
      ]
     },
     "metadata": {},
     "output_type": "display_data"
    }
   ],
   "source": [
    "x_val, y_val = ecdf(data['work_ex_yrs'])\n",
    "print(x_val, y_val)\n",
    "plt.plot(x_val,y_val,marker='.',linestyle='none')\n",
    "plt.xlabel('Value')\n",
    "plt.ylabel('Empirical Cumulative Distribution Function %')\n",
    "plt.margins(0.02)\n",
    "plt.show()"
   ]
  },
  {
   "cell_type": "markdown",
   "metadata": {},
   "source": [
    "<h5>4. Undergrad Score Distribution:</h5>"
   ]
  },
  {
   "cell_type": "code",
   "execution_count": 51,
   "metadata": {},
   "outputs": [
    {
     "data": {
      "text/plain": [
       "Text(0.5, 1.0, 'Undergrad Scores Distribution')"
      ]
     },
     "execution_count": 51,
     "metadata": {},
     "output_type": "execute_result"
    },
    {
     "data": {
      "image/png": "[encoded data removed]",
      "text/plain": [
       "<Figure size 432x288 with 1 Axes>"
      ]
     },
     "metadata": {},
     "output_type": "display_data"
    }
   ],
   "source": [
    "sns.distplot(data[data['status']==0]['undergrad_score'], color = 'r')\n",
    "sns.distplot(data[data['status']==1]['undergrad_score'], color = 'g')\n",
    "plt.legend(['Reject','Admit'])\n",
    "plt.xlabel('Undergrad Score')\n",
    "plt.title('Undergrad Scores Distribution')"
   ]
  },
  {
   "cell_type": "markdown",
   "metadata": {},
   "source": [
    "For Undergrad Scores below 75, the Admit to Reject ratio is low. As the scores increase above 75, this ratio increases, which means that higher number of candidates with scores above 75 got an Admit."
   ]
  },
  {
   "cell_type": "markdown",
   "metadata": {},
   "source": [
    "Note: Although insights are drawn from the distributions, they may vary from one university to another based on the universities' selection criteria."
   ]
  },
  {
   "cell_type": "code",
   "execution_count": 52,
   "metadata": {},
   "outputs": [
    {
     "name": "stdout",
     "output_type": "stream",
     "text": [
      "[29.45 29.45 29.83 ... 91.2  91.5  92.15] [6.60501982e-04 1.32100396e-03 1.98150594e-03 ... 9.98678996e-01\n",
      " 9.99339498e-01 1.00000000e+00]\n"
     ]
    },
    {
     "data": {
      "image/png": "[encoded data removed]",
      "text/plain": [
       "<Figure size 432x288 with 1 Axes>"
      ]
     },
     "metadata": {},
     "output_type": "display_data"
    }
   ],
   "source": [
    "x_val, y_val = ecdf(data['undergrad_score'])\n",
    "print(x_val, y_val)\n",
    "plt.plot(x_val,y_val,marker='.',linestyle='none')\n",
    "plt.xlabel('Value')\n",
    "plt.ylabel('Empirical Cumulative Distribution Function %')\n",
    "plt.margins(0.02)\n",
    "plt.show()"
   ]
  },
  {
   "cell_type": "markdown",
   "metadata": {},
   "source": [
    "<h3>Prediction of Status of the Application</h3>\n",
    "\n",
    "I'll begin by categorizing the universities based on the average GRE Scores at which they accept an application. This categorical column will be called 'Rating' of a university and will be used in the calculations instead of the university name:"
   ]
  },
  {
   "cell_type": "code",
   "execution_count": 53,
   "metadata": {},
   "outputs": [
    {
     "data": {
      "text/html": [
       "<div>\n",
       "<style scoped>\n",
       "    .dataframe tbody tr th:only-of-type {\n",
       "        vertical-align: middle;\n",
       "    }\n",
       "\n",
       "    .dataframe tbody tr th {\n",
       "        vertical-align: top;\n",
       "    }\n",
       "\n",
       "    .dataframe thead th {\n",
       "        text-align: right;\n",
       "    }\n",
       "</style>\n",
       "<table border=\"1\" class=\"dataframe\">\n",
       "  <thead>\n",
       "    <tr style=\"text-align: right;\">\n",
       "      <th></th>\n",
       "      <th>university</th>\n",
       "      <th>gre_score</th>\n",
       "    </tr>\n",
       "  </thead>\n",
       "  <tbody>\n",
       "    <tr>\n",
       "      <td>0</td>\n",
       "      <td>University of Washington</td>\n",
       "      <td>320.400000</td>\n",
       "    </tr>\n",
       "    <tr>\n",
       "      <td>1</td>\n",
       "      <td>Rensselaer Polytechnic Institute</td>\n",
       "      <td>319.875000</td>\n",
       "    </tr>\n",
       "    <tr>\n",
       "      <td>2</td>\n",
       "      <td>University of California, Irvine</td>\n",
       "      <td>319.500000</td>\n",
       "    </tr>\n",
       "    <tr>\n",
       "      <td>3</td>\n",
       "      <td>Indiana University Bloomington</td>\n",
       "      <td>318.200000</td>\n",
       "    </tr>\n",
       "    <tr>\n",
       "      <td>4</td>\n",
       "      <td>Pennsylvania State University</td>\n",
       "      <td>318.125000</td>\n",
       "    </tr>\n",
       "    <tr>\n",
       "      <td>5</td>\n",
       "      <td>Carnegie Mellon University</td>\n",
       "      <td>317.242424</td>\n",
       "    </tr>\n",
       "    <tr>\n",
       "      <td>6</td>\n",
       "      <td>University of Pennsylvania</td>\n",
       "      <td>317.000000</td>\n",
       "    </tr>\n",
       "    <tr>\n",
       "      <td>7</td>\n",
       "      <td>University of Arizona</td>\n",
       "      <td>316.466667</td>\n",
       "    </tr>\n",
       "    <tr>\n",
       "      <td>8</td>\n",
       "      <td>University of Texas at Austin</td>\n",
       "      <td>315.500000</td>\n",
       "    </tr>\n",
       "    <tr>\n",
       "      <td>9</td>\n",
       "      <td>Texas A&amp;M; University, College Station</td>\n",
       "      <td>314.769231</td>\n",
       "    </tr>\n",
       "    <tr>\n",
       "      <td>10</td>\n",
       "      <td>New York University</td>\n",
       "      <td>314.714286</td>\n",
       "    </tr>\n",
       "    <tr>\n",
       "      <td>11</td>\n",
       "      <td>Northwestern University</td>\n",
       "      <td>314.500000</td>\n",
       "    </tr>\n",
       "    <tr>\n",
       "      <td>12</td>\n",
       "      <td>University of Cincinnati</td>\n",
       "      <td>314.117647</td>\n",
       "    </tr>\n",
       "    <tr>\n",
       "      <td>13</td>\n",
       "      <td>University at Buffalo SUNY</td>\n",
       "      <td>312.285714</td>\n",
       "    </tr>\n",
       "    <tr>\n",
       "      <td>14</td>\n",
       "      <td>University of Maryland, College Park</td>\n",
       "      <td>312.285714</td>\n",
       "    </tr>\n",
       "    <tr>\n",
       "      <td>15</td>\n",
       "      <td>Iowa State University</td>\n",
       "      <td>310.941176</td>\n",
       "    </tr>\n",
       "    <tr>\n",
       "      <td>16</td>\n",
       "      <td>Arizona State University</td>\n",
       "      <td>310.250000</td>\n",
       "    </tr>\n",
       "    <tr>\n",
       "      <td>17</td>\n",
       "      <td>University of Utah</td>\n",
       "      <td>309.200000</td>\n",
       "    </tr>\n",
       "    <tr>\n",
       "      <td>18</td>\n",
       "      <td>University of Minnesota, Twin Cities</td>\n",
       "      <td>309.000000</td>\n",
       "    </tr>\n",
       "    <tr>\n",
       "      <td>19</td>\n",
       "      <td>Santa Clara University</td>\n",
       "      <td>308.928571</td>\n",
       "    </tr>\n",
       "    <tr>\n",
       "      <td>20</td>\n",
       "      <td>University of Illinois at Chicago</td>\n",
       "      <td>308.705882</td>\n",
       "    </tr>\n",
       "    <tr>\n",
       "      <td>21</td>\n",
       "      <td>Syracuse University</td>\n",
       "      <td>308.000000</td>\n",
       "    </tr>\n",
       "    <tr>\n",
       "      <td>22</td>\n",
       "      <td>University of Texas at Dallas</td>\n",
       "      <td>307.727273</td>\n",
       "    </tr>\n",
       "    <tr>\n",
       "      <td>23</td>\n",
       "      <td>University of Florida</td>\n",
       "      <td>307.470588</td>\n",
       "    </tr>\n",
       "    <tr>\n",
       "      <td>24</td>\n",
       "      <td>Worcester Polytechnic Institute</td>\n",
       "      <td>307.176471</td>\n",
       "    </tr>\n",
       "    <tr>\n",
       "      <td>25</td>\n",
       "      <td>Stevens Institute of Technology</td>\n",
       "      <td>306.900000</td>\n",
       "    </tr>\n",
       "    <tr>\n",
       "      <td>26</td>\n",
       "      <td>Boston University</td>\n",
       "      <td>306.750000</td>\n",
       "    </tr>\n",
       "    <tr>\n",
       "      <td>27</td>\n",
       "      <td>Drexel University</td>\n",
       "      <td>306.600000</td>\n",
       "    </tr>\n",
       "    <tr>\n",
       "      <td>28</td>\n",
       "      <td>Northeastern University</td>\n",
       "      <td>306.333333</td>\n",
       "    </tr>\n",
       "    <tr>\n",
       "      <td>29</td>\n",
       "      <td>University of North Carolina at Charlotte</td>\n",
       "      <td>304.571429</td>\n",
       "    </tr>\n",
       "    <tr>\n",
       "      <td>30</td>\n",
       "      <td>Rochester Institute of Technology</td>\n",
       "      <td>304.111111</td>\n",
       "    </tr>\n",
       "    <tr>\n",
       "      <td>31</td>\n",
       "      <td>University of Texas at Arlington</td>\n",
       "      <td>303.615385</td>\n",
       "    </tr>\n",
       "    <tr>\n",
       "      <td>32</td>\n",
       "      <td>University of Delaware</td>\n",
       "      <td>302.800000</td>\n",
       "    </tr>\n",
       "    <tr>\n",
       "      <td>33</td>\n",
       "      <td>Rutgers University-New Brunswick</td>\n",
       "      <td>302.000000</td>\n",
       "    </tr>\n",
       "    <tr>\n",
       "      <td>34</td>\n",
       "      <td>Illinois Institute of Technology</td>\n",
       "      <td>300.000000</td>\n",
       "    </tr>\n",
       "    <tr>\n",
       "      <td>35</td>\n",
       "      <td>Rutgers University, Newark</td>\n",
       "      <td>299.166667</td>\n",
       "    </tr>\n",
       "  </tbody>\n",
       "</table>\n",
       "</div>"
      ],
      "text/plain": [
       "                                   university   gre_score\n",
       "0                    University of Washington  320.400000\n",
       "1            Rensselaer Polytechnic Institute  319.875000\n",
       "2            University of California, Irvine  319.500000\n",
       "3              Indiana University Bloomington  318.200000\n",
       "4               Pennsylvania State University  318.125000\n",
       "5                  Carnegie Mellon University  317.242424\n",
       "6                  University of Pennsylvania  317.000000\n",
       "7                       University of Arizona  316.466667\n",
       "8               University of Texas at Austin  315.500000\n",
       "9      Texas A&M; University, College Station  314.769231\n",
       "10                        New York University  314.714286\n",
       "11                    Northwestern University  314.500000\n",
       "12                   University of Cincinnati  314.117647\n",
       "13                 University at Buffalo SUNY  312.285714\n",
       "14       University of Maryland, College Park  312.285714\n",
       "15                      Iowa State University  310.941176\n",
       "16                   Arizona State University  310.250000\n",
       "17                         University of Utah  309.200000\n",
       "18       University of Minnesota, Twin Cities  309.000000\n",
       "19                     Santa Clara University  308.928571\n",
       "20          University of Illinois at Chicago  308.705882\n",
       "21                        Syracuse University  308.000000\n",
       "22              University of Texas at Dallas  307.727273\n",
       "23                      University of Florida  307.470588\n",
       "24            Worcester Polytechnic Institute  307.176471\n",
       "25            Stevens Institute of Technology  306.900000\n",
       "26                          Boston University  306.750000\n",
       "27                          Drexel University  306.600000\n",
       "28                    Northeastern University  306.333333\n",
       "29  University of North Carolina at Charlotte  304.571429\n",
       "30          Rochester Institute of Technology  304.111111\n",
       "31           University of Texas at Arlington  303.615385\n",
       "32                     University of Delaware  302.800000\n",
       "33           Rutgers University-New Brunswick  302.000000\n",
       "34           Illinois Institute of Technology  300.000000\n",
       "35                 Rutgers University, Newark  299.166667"
      ]
     },
     "execution_count": 53,
     "metadata": {},
     "output_type": "execute_result"
    }
   ],
   "source": [
    "univ = data[data['status']==1].groupby('university').mean()['gre_score'].sort_values(ascending=False).reset_index()\n",
    "univ"
   ]
  },
  {
   "cell_type": "code",
   "execution_count": 54,
   "metadata": {},
   "outputs": [
    {
     "data": {
      "text/plain": [
       "3.538888888888882"
      ]
     },
     "execution_count": 54,
     "metadata": {},
     "output_type": "execute_result"
    }
   ],
   "source": [
    "bins = 6\n",
    "binLength = (univ.describe().loc['max'][0] - univ.describe().loc['min'][0]) / bins\n",
    "binLength"
   ]
  },
  {
   "cell_type": "code",
   "execution_count": 55,
   "metadata": {},
   "outputs": [
    {
     "data": {
      "text/plain": [
       "[299, 302, 305, 308, 311, 314, 317]"
      ]
     },
     "execution_count": 55,
     "metadata": {},
     "output_type": "execute_result"
    }
   ],
   "source": [
    "list(range(int(univ.describe().loc['min'][0]), int(univ.describe().loc['max'][0]), int(binLength)))"
   ]
  },
  {
   "cell_type": "code",
   "execution_count": 56,
   "metadata": {},
   "outputs": [],
   "source": [
    "binInterval = list(range(int(univ.describe().loc['min'][0]), int(univ.describe().loc['max'][0]), int(binLength)))\n",
    "binLabels   = list(range(1,len(binInterval)))\n",
    "univ['rating'] = pd.cut(univ['gre_score'], bins = binInterval, labels=binLabels, right=True)"
   ]
  },
  {
   "cell_type": "code",
   "execution_count": 57,
   "metadata": {},
   "outputs": [],
   "source": [
    "univ=univ[['university','rating']]"
   ]
  },
  {
   "cell_type": "code",
   "execution_count": 58,
   "metadata": {},
   "outputs": [
    {
     "name": "stderr",
     "output_type": "stream",
     "text": [
      "C:\\Users\\nakausha\\Anaconda3\\lib\\site-packages\\pandas\\core\\indexing.py:494: SettingWithCopyWarning: \n",
      "A value is trying to be set on a copy of a slice from a DataFrame.\n",
      "Try using .loc[row_indexer,col_indexer] = value instead\n",
      "\n",
      "See the caveats in the documentation: http://pandas.pydata.org/pandas-docs/stable/user_guide/indexing.html#returning-a-view-versus-a-copy\n",
      "  self.obj[item] = s\n"
     ]
    }
   ],
   "source": [
    "univ.loc[:,'rating']= pd.to_numeric(univ.loc[:,'rating']).fillna(len(binLabels)+1)"
   ]
  },
  {
   "cell_type": "code",
   "execution_count": 59,
   "metadata": {},
   "outputs": [],
   "source": [
    "temp=[]\n",
    "for i in data['university'].index:\n",
    "    for j in univ['university'].index:\n",
    "        if data.iloc[i,0]==univ.iloc[j,0]:\n",
    "            temp.append(univ.iloc[j,1])"
   ]
  },
  {
   "cell_type": "code",
   "execution_count": 60,
   "metadata": {},
   "outputs": [],
   "source": [
    "data['rating'] = pd.Series(temp)"
   ]
  },
  {
   "cell_type": "markdown",
   "metadata": {},
   "source": [
    "Now that the Rating column has been established, I'll start by diving the data into testing and training data."
   ]
  },
  {
   "cell_type": "markdown",
   "metadata": {},
   "source": [
    "The testing data contains applications with status as \"Applied\" or \"Interested\" to predict the status of their application:"
   ]
  },
  {
   "cell_type": "code",
   "execution_count": 61,
   "metadata": {},
   "outputs": [
    {
     "data": {
      "text/html": [
       "<div>\n",
       "<style scoped>\n",
       "    .dataframe tbody tr th:only-of-type {\n",
       "        vertical-align: middle;\n",
       "    }\n",
       "\n",
       "    .dataframe tbody tr th {\n",
       "        vertical-align: top;\n",
       "    }\n",
       "\n",
       "    .dataframe thead th {\n",
       "        text-align: right;\n",
       "    }\n",
       "</style>\n",
       "<table border=\"1\" class=\"dataframe\">\n",
       "  <thead>\n",
       "    <tr style=\"text-align: right;\">\n",
       "      <th></th>\n",
       "      <th>gre_score</th>\n",
       "      <th>test_score</th>\n",
       "      <th>undergrad_score</th>\n",
       "      <th>work_ex_yrs</th>\n",
       "      <th>rating</th>\n",
       "    </tr>\n",
       "  </thead>\n",
       "  <tbody>\n",
       "    <tr>\n",
       "      <td>0</td>\n",
       "      <td>313</td>\n",
       "      <td>107.0</td>\n",
       "      <td>62.000</td>\n",
       "      <td>0</td>\n",
       "      <td>4.0</td>\n",
       "    </tr>\n",
       "    <tr>\n",
       "      <td>1</td>\n",
       "      <td>314</td>\n",
       "      <td>106.0</td>\n",
       "      <td>72.485</td>\n",
       "      <td>0</td>\n",
       "      <td>4.0</td>\n",
       "    </tr>\n",
       "    <tr>\n",
       "      <td>2</td>\n",
       "      <td>307</td>\n",
       "      <td>109.0</td>\n",
       "      <td>62.000</td>\n",
       "      <td>0</td>\n",
       "      <td>4.0</td>\n",
       "    </tr>\n",
       "    <tr>\n",
       "      <td>3</td>\n",
       "      <td>290</td>\n",
       "      <td>109.0</td>\n",
       "      <td>66.500</td>\n",
       "      <td>3</td>\n",
       "      <td>4.0</td>\n",
       "    </tr>\n",
       "    <tr>\n",
       "      <td>4</td>\n",
       "      <td>306</td>\n",
       "      <td>90.0</td>\n",
       "      <td>77.900</td>\n",
       "      <td>1</td>\n",
       "      <td>4.0</td>\n",
       "    </tr>\n",
       "    <tr>\n",
       "      <td>...</td>\n",
       "      <td>...</td>\n",
       "      <td>...</td>\n",
       "      <td>...</td>\n",
       "      <td>...</td>\n",
       "      <td>...</td>\n",
       "    </tr>\n",
       "    <tr>\n",
       "      <td>1509</td>\n",
       "      <td>311</td>\n",
       "      <td>101.0</td>\n",
       "      <td>58.710</td>\n",
       "      <td>2</td>\n",
       "      <td>3.0</td>\n",
       "    </tr>\n",
       "    <tr>\n",
       "      <td>1510</td>\n",
       "      <td>306</td>\n",
       "      <td>109.0</td>\n",
       "      <td>50.000</td>\n",
       "      <td>2</td>\n",
       "      <td>3.0</td>\n",
       "    </tr>\n",
       "    <tr>\n",
       "      <td>1511</td>\n",
       "      <td>297</td>\n",
       "      <td>101.0</td>\n",
       "      <td>65.265</td>\n",
       "      <td>2</td>\n",
       "      <td>3.0</td>\n",
       "    </tr>\n",
       "    <tr>\n",
       "      <td>1512</td>\n",
       "      <td>315</td>\n",
       "      <td>109.0</td>\n",
       "      <td>60.000</td>\n",
       "      <td>2</td>\n",
       "      <td>3.0</td>\n",
       "    </tr>\n",
       "    <tr>\n",
       "      <td>1513</td>\n",
       "      <td>297</td>\n",
       "      <td>97.0</td>\n",
       "      <td>68.000</td>\n",
       "      <td>7</td>\n",
       "      <td>3.0</td>\n",
       "    </tr>\n",
       "  </tbody>\n",
       "</table>\n",
       "<p>680 rows × 5 columns</p>\n",
       "</div>"
      ],
      "text/plain": [
       "      gre_score  test_score  undergrad_score  work_ex_yrs  rating\n",
       "0           313       107.0           62.000            0     4.0\n",
       "1           314       106.0           72.485            0     4.0\n",
       "2           307       109.0           62.000            0     4.0\n",
       "3           290       109.0           66.500            3     4.0\n",
       "4           306        90.0           77.900            1     4.0\n",
       "...         ...         ...              ...          ...     ...\n",
       "1509        311       101.0           58.710            2     3.0\n",
       "1510        306       109.0           50.000            2     3.0\n",
       "1511        297       101.0           65.265            2     3.0\n",
       "1512        315       109.0           60.000            2     3.0\n",
       "1513        297        97.0           68.000            7     3.0\n",
       "\n",
       "[680 rows x 5 columns]"
      ]
     },
     "execution_count": 61,
     "metadata": {},
     "output_type": "execute_result"
    }
   ],
   "source": [
    "test = data[data[\"status\"].isin([2,3])]\n",
    "univ_backup = test['university']\n",
    "test = test.drop(columns=[\"status\",\"university\"])\n",
    "test"
   ]
  },
  {
   "cell_type": "markdown",
   "metadata": {},
   "source": [
    "The training data contains applications with status as \"Admit\" or \"Reject\":"
   ]
  },
  {
   "cell_type": "code",
   "execution_count": 62,
   "metadata": {},
   "outputs": [
    {
     "data": {
      "text/html": [
       "<div>\n",
       "<style scoped>\n",
       "    .dataframe tbody tr th:only-of-type {\n",
       "        vertical-align: middle;\n",
       "    }\n",
       "\n",
       "    .dataframe tbody tr th {\n",
       "        vertical-align: top;\n",
       "    }\n",
       "\n",
       "    .dataframe thead th {\n",
       "        text-align: right;\n",
       "    }\n",
       "</style>\n",
       "<table border=\"1\" class=\"dataframe\">\n",
       "  <thead>\n",
       "    <tr style=\"text-align: right;\">\n",
       "      <th></th>\n",
       "      <th>status</th>\n",
       "      <th>gre_score</th>\n",
       "      <th>test_score</th>\n",
       "      <th>undergrad_score</th>\n",
       "      <th>work_ex_yrs</th>\n",
       "      <th>rating</th>\n",
       "    </tr>\n",
       "  </thead>\n",
       "  <tbody>\n",
       "    <tr>\n",
       "      <td>15</td>\n",
       "      <td>1</td>\n",
       "      <td>315</td>\n",
       "      <td>104.0</td>\n",
       "      <td>77.000</td>\n",
       "      <td>0</td>\n",
       "      <td>4.0</td>\n",
       "    </tr>\n",
       "    <tr>\n",
       "      <td>16</td>\n",
       "      <td>1</td>\n",
       "      <td>311</td>\n",
       "      <td>101.0</td>\n",
       "      <td>73.530</td>\n",
       "      <td>2</td>\n",
       "      <td>4.0</td>\n",
       "    </tr>\n",
       "    <tr>\n",
       "      <td>17</td>\n",
       "      <td>1</td>\n",
       "      <td>312</td>\n",
       "      <td>110.0</td>\n",
       "      <td>81.700</td>\n",
       "      <td>1</td>\n",
       "      <td>4.0</td>\n",
       "    </tr>\n",
       "    <tr>\n",
       "      <td>18</td>\n",
       "      <td>1</td>\n",
       "      <td>307</td>\n",
       "      <td>103.0</td>\n",
       "      <td>76.000</td>\n",
       "      <td>2</td>\n",
       "      <td>4.0</td>\n",
       "    </tr>\n",
       "    <tr>\n",
       "      <td>19</td>\n",
       "      <td>1</td>\n",
       "      <td>321</td>\n",
       "      <td>102.0</td>\n",
       "      <td>71.250</td>\n",
       "      <td>0</td>\n",
       "      <td>4.0</td>\n",
       "    </tr>\n",
       "    <tr>\n",
       "      <td>...</td>\n",
       "      <td>...</td>\n",
       "      <td>...</td>\n",
       "      <td>...</td>\n",
       "      <td>...</td>\n",
       "      <td>...</td>\n",
       "      <td>...</td>\n",
       "    </tr>\n",
       "    <tr>\n",
       "      <td>1503</td>\n",
       "      <td>0</td>\n",
       "      <td>299</td>\n",
       "      <td>88.0</td>\n",
       "      <td>75.525</td>\n",
       "      <td>0</td>\n",
       "      <td>3.0</td>\n",
       "    </tr>\n",
       "    <tr>\n",
       "      <td>1504</td>\n",
       "      <td>0</td>\n",
       "      <td>308</td>\n",
       "      <td>99.0</td>\n",
       "      <td>62.500</td>\n",
       "      <td>4</td>\n",
       "      <td>3.0</td>\n",
       "    </tr>\n",
       "    <tr>\n",
       "      <td>1505</td>\n",
       "      <td>0</td>\n",
       "      <td>288</td>\n",
       "      <td>89.0</td>\n",
       "      <td>55.340</td>\n",
       "      <td>0</td>\n",
       "      <td>3.0</td>\n",
       "    </tr>\n",
       "    <tr>\n",
       "      <td>1506</td>\n",
       "      <td>0</td>\n",
       "      <td>302</td>\n",
       "      <td>86.0</td>\n",
       "      <td>65.000</td>\n",
       "      <td>2</td>\n",
       "      <td>3.0</td>\n",
       "    </tr>\n",
       "    <tr>\n",
       "      <td>1507</td>\n",
       "      <td>0</td>\n",
       "      <td>295</td>\n",
       "      <td>90.0</td>\n",
       "      <td>60.600</td>\n",
       "      <td>1</td>\n",
       "      <td>3.0</td>\n",
       "    </tr>\n",
       "  </tbody>\n",
       "</table>\n",
       "<p>834 rows × 6 columns</p>\n",
       "</div>"
      ],
      "text/plain": [
       "      status  gre_score  test_score  undergrad_score  work_ex_yrs  rating\n",
       "15         1        315       104.0           77.000            0     4.0\n",
       "16         1        311       101.0           73.530            2     4.0\n",
       "17         1        312       110.0           81.700            1     4.0\n",
       "18         1        307       103.0           76.000            2     4.0\n",
       "19         1        321       102.0           71.250            0     4.0\n",
       "...      ...        ...         ...              ...          ...     ...\n",
       "1503       0        299        88.0           75.525            0     3.0\n",
       "1504       0        308        99.0           62.500            4     3.0\n",
       "1505       0        288        89.0           55.340            0     3.0\n",
       "1506       0        302        86.0           65.000            2     3.0\n",
       "1507       0        295        90.0           60.600            1     3.0\n",
       "\n",
       "[834 rows x 6 columns]"
      ]
     },
     "execution_count": 62,
     "metadata": {},
     "output_type": "execute_result"
    }
   ],
   "source": [
    "train = data[data[\"status\"].isin([0,1])].drop(columns=[\"university\"])\n",
    "train"
   ]
  },
  {
   "cell_type": "markdown",
   "metadata": {},
   "source": [
    "In order to predict the result of the application of a candidate as \"Admit\" or \"Reject\" (1 or 0), Logistic Regression Algorithm is being implemented as follows:"
   ]
  },
  {
   "cell_type": "code",
   "execution_count": 63,
   "metadata": {},
   "outputs": [],
   "source": [
    "y = train[\"status\"]"
   ]
  },
  {
   "cell_type": "code",
   "execution_count": 64,
   "metadata": {},
   "outputs": [],
   "source": [
    "X = train.drop(columns='status')"
   ]
  },
  {
   "cell_type": "markdown",
   "metadata": {},
   "source": [
    "Splitting X and y variables into testing and training data:"
   ]
  },
  {
   "cell_type": "code",
   "execution_count": 65,
   "metadata": {},
   "outputs": [
    {
     "name": "stdout",
     "output_type": "stream",
     "text": [
      "(583, 5)\n",
      "(251, 5)\n",
      "(583,)\n",
      "(251,)\n"
     ]
    }
   ],
   "source": [
    "X_train, X_test, y_train, y_test = train_test_split(X, y, test_size=0.3, shuffle=True)\n",
    "print(X_train.shape)\n",
    "print(X_test.shape)\n",
    "print(y_train.shape)\n",
    "print(y_test.shape)"
   ]
  },
  {
   "cell_type": "code",
   "execution_count": 66,
   "metadata": {},
   "outputs": [],
   "source": [
    "#Logistic Regression:\n",
    "LR = LogisticRegression(random_state = 0, solver = 'lbfgs', multi_class='ovr', max_iter = 10000)"
   ]
  },
  {
   "cell_type": "code",
   "execution_count": 67,
   "metadata": {},
   "outputs": [],
   "source": [
    "LR.fit(X_train, y_train)\n",
    "y_pred = LR.predict(X_test)"
   ]
  },
  {
   "cell_type": "markdown",
   "metadata": {},
   "source": [
    "Once the algorithm has been trained and the values predicted, I'll check for the accuracy of the algorithm by generating an accuracy score, confusion matrix and classification report as follows:"
   ]
  },
  {
   "cell_type": "code",
   "execution_count": 68,
   "metadata": {},
   "outputs": [
    {
     "data": {
      "text/plain": [
       "'Accuracy of Logistic Regression = 63.75%'"
      ]
     },
     "metadata": {},
     "output_type": "display_data"
    },
    {
     "name": "stdout",
     "output_type": "stream",
     "text": [
      "[[65 39]\n",
      " [52 95]]\n",
      "              precision    recall  f1-score   support\n",
      "\n",
      "           0       0.56      0.62      0.59       104\n",
      "           1       0.71      0.65      0.68       147\n",
      "\n",
      "    accuracy                           0.64       251\n",
      "   macro avg       0.63      0.64      0.63       251\n",
      "weighted avg       0.65      0.64      0.64       251\n",
      "\n"
     ]
    }
   ],
   "source": [
    "accuracy = accuracy_score(y_test, y_pred)*100\n",
    "display(\"Accuracy of Logistic Regression = {:.2f}%\".format(accuracy))\n",
    "print(confusion_matrix(y_test, y_pred))\n",
    "print(classification_report(y_test,y_pred))"
   ]
  },
  {
   "cell_type": "markdown",
   "metadata": {},
   "source": [
    "The accuracy of this Logistic Regression algorithm is 68.92%. This means that if a candidate is predicted to get an Admit, he/she will have a 68.92% chance of receiving an admit and a 31.08% chance of receiving a Reject.\n",
    "\n",
    "To understand the accuracy better, I have generated the plot for distribution of Actual and Predicted values:"
   ]
  },
  {
   "cell_type": "code",
   "execution_count": 69,
   "metadata": {},
   "outputs": [
    {
     "data": {
      "text/plain": [
       "Text(0.5, 0, 'Prediction level')"
      ]
     },
     "execution_count": 69,
     "metadata": {},
     "output_type": "execute_result"
    },
    {
     "data": {
      "image/png": "[encoded data removed]",
      "text/plain": [
       "<Figure size 432x288 with 1 Axes>"
      ]
     },
     "metadata": {},
     "output_type": "display_data"
    }
   ],
   "source": [
    "sns.distplot(y_test,label = 'Actual')\n",
    "sns.distplot(y_pred, label ='Predicted')\n",
    "plt.legend(loc=\"upper left\")\n",
    "plt.xlabel('Prediction level')"
   ]
  },
  {
   "cell_type": "markdown",
   "metadata": {},
   "source": [
    "If I had predicted all applications to receive an \"Admit\", the accuracy would've been 53.36%. With our trained algorithm, this accuracy increased to 68.92%. (This is not a very huge difference considering the efforts taken to reach this point.)"
   ]
  },
  {
   "cell_type": "code",
   "execution_count": 70,
   "metadata": {},
   "outputs": [
    {
     "data": {
      "text/plain": [
       "'Accuracy with the training model: '"
      ]
     },
     "metadata": {},
     "output_type": "display_data"
    },
    {
     "data": {
      "text/plain": [
       "63.745019920318725"
      ]
     },
     "metadata": {},
     "output_type": "display_data"
    },
    {
     "data": {
      "text/plain": [
       "'Accuracy on setting status to Admit: '"
      ]
     },
     "metadata": {},
     "output_type": "display_data"
    },
    {
     "data": {
      "text/plain": [
       "53.357314148681056"
      ]
     },
     "metadata": {},
     "output_type": "display_data"
    }
   ],
   "source": [
    "display('Accuracy with the training model: ', accuracy)\n",
    "display('Accuracy on setting status to Admit: ',train['status'].value_counts(normalize=True)[1]*100)"
   ]
  },
  {
   "cell_type": "markdown",
   "metadata": {},
   "source": [
    "Let's review the feature importance graph to understand how each feature contributed to the model:"
   ]
  },
  {
   "cell_type": "code",
   "execution_count": 71,
   "metadata": {},
   "outputs": [
    {
     "data": {
      "text/plain": [
       "(array([0, 1, 2, 3, 4]), <a list of 5 Text major ticklabel objects>)"
      ]
     },
     "execution_count": 71,
     "metadata": {},
     "output_type": "execute_result"
    },
    {
     "data": {
      "image/png": "[encoded data removed]",
      "text/plain": [
       "<Figure size 432x288 with 1 Axes>"
      ]
     },
     "metadata": {},
     "output_type": "display_data"
    }
   ],
   "source": [
    "#feature importance\n",
    "importance = LR.coef_[0]\n",
    "# plot feature importance\n",
    "feature_importance = pd.DataFrame(sorted(zip(importance, X.columns)), columns=['Value','Feature'])\n",
    "sns.barplot(x=\"Feature\", y=\"Value\", data=feature_importance.sort_values(by=\"Value\", ascending=False))\n",
    "plt.xticks(rotation=90)"
   ]
  },
  {
   "cell_type": "markdown",
   "metadata": {},
   "source": [
    "Observation:\n",
    "\n",
    "As the rating of the University reduced, the chances of receiving an Admit also reduced. \n",
    "\n",
    "Takeaway:\n",
    "\n",
    "This means that the University and GRE Scores (as ratings were derived based on these scores) play a very important role in deciding the result of an application."
   ]
  },
  {
   "cell_type": "markdown",
   "metadata": {},
   "source": [
    "Let's use the trained model to predict the result of applications which were marked \"Applied\" or \"Interested\":"
   ]
  },
  {
   "cell_type": "code",
   "execution_count": 72,
   "metadata": {},
   "outputs": [
    {
     "data": {
      "text/html": [
       "<div>\n",
       "<style scoped>\n",
       "    .dataframe tbody tr th:only-of-type {\n",
       "        vertical-align: middle;\n",
       "    }\n",
       "\n",
       "    .dataframe tbody tr th {\n",
       "        vertical-align: top;\n",
       "    }\n",
       "\n",
       "    .dataframe thead th {\n",
       "        text-align: right;\n",
       "    }\n",
       "</style>\n",
       "<table border=\"1\" class=\"dataframe\">\n",
       "  <thead>\n",
       "    <tr style=\"text-align: right;\">\n",
       "      <th></th>\n",
       "      <th>university</th>\n",
       "      <th>gre_score</th>\n",
       "      <th>test_score</th>\n",
       "      <th>undergrad_score</th>\n",
       "      <th>work_ex_yrs</th>\n",
       "      <th>status</th>\n",
       "    </tr>\n",
       "  </thead>\n",
       "  <tbody>\n",
       "    <tr>\n",
       "      <td>0</td>\n",
       "      <td>Arizona State University</td>\n",
       "      <td>313</td>\n",
       "      <td>107.0</td>\n",
       "      <td>62.000</td>\n",
       "      <td>0</td>\n",
       "      <td>Admit</td>\n",
       "    </tr>\n",
       "    <tr>\n",
       "      <td>1</td>\n",
       "      <td>Arizona State University</td>\n",
       "      <td>314</td>\n",
       "      <td>106.0</td>\n",
       "      <td>72.485</td>\n",
       "      <td>0</td>\n",
       "      <td>Admit</td>\n",
       "    </tr>\n",
       "    <tr>\n",
       "      <td>2</td>\n",
       "      <td>Arizona State University</td>\n",
       "      <td>307</td>\n",
       "      <td>109.0</td>\n",
       "      <td>62.000</td>\n",
       "      <td>0</td>\n",
       "      <td>Reject</td>\n",
       "    </tr>\n",
       "    <tr>\n",
       "      <td>3</td>\n",
       "      <td>Arizona State University</td>\n",
       "      <td>290</td>\n",
       "      <td>109.0</td>\n",
       "      <td>66.500</td>\n",
       "      <td>3</td>\n",
       "      <td>Reject</td>\n",
       "    </tr>\n",
       "    <tr>\n",
       "      <td>4</td>\n",
       "      <td>Arizona State University</td>\n",
       "      <td>306</td>\n",
       "      <td>90.0</td>\n",
       "      <td>77.900</td>\n",
       "      <td>1</td>\n",
       "      <td>Reject</td>\n",
       "    </tr>\n",
       "    <tr>\n",
       "      <td>...</td>\n",
       "      <td>...</td>\n",
       "      <td>...</td>\n",
       "      <td>...</td>\n",
       "      <td>...</td>\n",
       "      <td>...</td>\n",
       "      <td>...</td>\n",
       "    </tr>\n",
       "    <tr>\n",
       "      <td>1509</td>\n",
       "      <td>Worcester Polytechnic Institute</td>\n",
       "      <td>311</td>\n",
       "      <td>101.0</td>\n",
       "      <td>58.710</td>\n",
       "      <td>2</td>\n",
       "      <td>Admit</td>\n",
       "    </tr>\n",
       "    <tr>\n",
       "      <td>1510</td>\n",
       "      <td>Worcester Polytechnic Institute</td>\n",
       "      <td>306</td>\n",
       "      <td>109.0</td>\n",
       "      <td>50.000</td>\n",
       "      <td>2</td>\n",
       "      <td>Admit</td>\n",
       "    </tr>\n",
       "    <tr>\n",
       "      <td>1511</td>\n",
       "      <td>Worcester Polytechnic Institute</td>\n",
       "      <td>297</td>\n",
       "      <td>101.0</td>\n",
       "      <td>65.265</td>\n",
       "      <td>2</td>\n",
       "      <td>Reject</td>\n",
       "    </tr>\n",
       "    <tr>\n",
       "      <td>1512</td>\n",
       "      <td>Worcester Polytechnic Institute</td>\n",
       "      <td>315</td>\n",
       "      <td>109.0</td>\n",
       "      <td>60.000</td>\n",
       "      <td>2</td>\n",
       "      <td>Admit</td>\n",
       "    </tr>\n",
       "    <tr>\n",
       "      <td>1513</td>\n",
       "      <td>Worcester Polytechnic Institute</td>\n",
       "      <td>297</td>\n",
       "      <td>97.0</td>\n",
       "      <td>68.000</td>\n",
       "      <td>7</td>\n",
       "      <td>Reject</td>\n",
       "    </tr>\n",
       "  </tbody>\n",
       "</table>\n",
       "<p>680 rows × 6 columns</p>\n",
       "</div>"
      ],
      "text/plain": [
       "                           university  gre_score  test_score  undergrad_score  \\\n",
       "0            Arizona State University        313       107.0           62.000   \n",
       "1            Arizona State University        314       106.0           72.485   \n",
       "2            Arizona State University        307       109.0           62.000   \n",
       "3            Arizona State University        290       109.0           66.500   \n",
       "4            Arizona State University        306        90.0           77.900   \n",
       "...                               ...        ...         ...              ...   \n",
       "1509  Worcester Polytechnic Institute        311       101.0           58.710   \n",
       "1510  Worcester Polytechnic Institute        306       109.0           50.000   \n",
       "1511  Worcester Polytechnic Institute        297       101.0           65.265   \n",
       "1512  Worcester Polytechnic Institute        315       109.0           60.000   \n",
       "1513  Worcester Polytechnic Institute        297        97.0           68.000   \n",
       "\n",
       "      work_ex_yrs  status  \n",
       "0               0   Admit  \n",
       "1               0   Admit  \n",
       "2               0  Reject  \n",
       "3               3  Reject  \n",
       "4               1  Reject  \n",
       "...           ...     ...  \n",
       "1509            2   Admit  \n",
       "1510            2   Admit  \n",
       "1511            2  Reject  \n",
       "1512            2   Admit  \n",
       "1513            7  Reject  \n",
       "\n",
       "[680 rows x 6 columns]"
      ]
     },
     "execution_count": 72,
     "metadata": {},
     "output_type": "execute_result"
    }
   ],
   "source": [
    "test[\"status\"] = LR.predict(test)\n",
    "test['status'] = test['status'].replace({0:'Reject', 1:'Admit'})\n",
    "test['university'] = univ_backup\n",
    "test = test[['university', 'gre_score', 'test_score', 'undergrad_score', 'work_ex_yrs', 'status']]\n",
    "test.to_csv(\"test.csv\")\n",
    "test"
   ]
  },
  {
   "cell_type": "markdown",
   "metadata": {},
   "source": [
    "<h3>Conclusion:</h3>\n",
    "\n",
    "We performed intensive Data Cleaning to improve our understanding of the data. On the clean data, Exploratory Data Analysis was performed to see how the variables affect the status of an application. We further improved the features so that they could be used to train our Logistic Regression algorithm. Finally, we trained our model, reviewed the accuracy and importance of the features, and predicted the status of applications which were marked \"Interested\" or \"Applied\"."
   ]
  }
 ],
 "metadata": {
  "kernelspec": {
   "display_name": "Python 3",
   "language": "python",
   "name": "python3"
  },
  "language_info": {
   "codemirror_mode": {
    "name": "ipython",
    "version": 3
   },
   "file_extension": ".py",
   "mimetype": "text/x-python",
   "name": "python",
   "nbconvert_exporter": "python",
   "pygments_lexer": "ipython3",
   "version": "3.7.4"
  }
 },
 "nbformat": 4,
 "nbformat_minor": 2
}
